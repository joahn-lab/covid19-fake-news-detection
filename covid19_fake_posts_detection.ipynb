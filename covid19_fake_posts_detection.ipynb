{
 "cells": [
  {
   "cell_type": "code",
   "execution_count": null,
   "metadata": {
    "id": "dNwTQef3Zs_-"
   },
   "outputs": [],
   "source": [
    "# !pip install pytorch-transformers\n",
    "# !pip install transformers\n",
    "# !pip install nltk\n"
   ]
  },
  {
   "cell_type": "code",
   "execution_count": null,
   "metadata": {
    "colab": {
     "base_uri": "https://localhost:8080/"
    },
    "id": "b4UVghcaWJ6Y",
    "outputId": "689ff97a-e3fe-4bae-d9c5-22efb0819b6d"
   },
   "outputs": [
    {
     "name": "stdout",
     "output_type": "stream",
     "text": [
      "[nltk_data] Downloading package punkt to /root/nltk_data...\n",
      "[nltk_data]   Unzipping tokenizers/punkt.zip.\n",
      "[nltk_data] Downloading package wordnet to /root/nltk_data...\n",
      "[nltk_data]   Unzipping corpora/wordnet.zip.\n",
      "[nltk_data] Downloading package stopwords to /root/nltk_data...\n",
      "[nltk_data]   Unzipping corpora/stopwords.zip.\n"
     ]
    },
    {
     "data": {
      "text/plain": [
       "True"
      ]
     },
     "execution_count": 3,
     "metadata": {
      "tags": []
     },
     "output_type": "execute_result"
    }
   ],
   "source": [
    "import nltk\n",
    "nltk.download('punkt')\n",
    "nltk.download('wordnet')\n",
    "nltk.download('stopwords')"
   ]
  },
  {
   "cell_type": "code",
   "execution_count": null,
   "metadata": {
    "colab": {
     "base_uri": "https://localhost:8080/"
    },
    "id": "czJZD2H8Fj3x",
    "outputId": "f9d0e655-31d3-4c41-d92a-fad4fbb59790"
   },
   "outputs": [
    {
     "name": "stdout",
     "output_type": "stream",
     "text": [
      "Collecting tweet-preprocessor\n",
      "  Downloading https://files.pythonhosted.org/packages/17/9d/71bd016a9edcef8860c607e531f30bd09b13103c7951ae73dd2bf174163c/tweet_preprocessor-0.6.0-py3-none-any.whl\n",
      "Installing collected packages: tweet-preprocessor\n",
      "Successfully installed tweet-preprocessor-0.6.0\n"
     ]
    }
   ],
   "source": [
    "# !pip install tweet-preprocessor"
   ]
  },
  {
   "cell_type": "code",
   "execution_count": null,
   "metadata": {
    "id": "uP3tG3qRZvja"
   },
   "outputs": [],
   "source": [
    "import torch\n",
    "from torch.utils.data import TensorDataset, DataLoader, RandomSampler, SequentialSampler\n",
    "from keras.preprocessing.sequence import pad_sequences\n",
    "from sklearn.model_selection import train_test_split\n",
    "import preprocessor as p\n",
    "\n",
    "from transformers import XLMModel, BertTokenizer, BertForSequenceClassification, RobertaTokenizerFast, RobertaForSequenceClassification\n",
    "from transformers import AdamW\n",
    "import nltk\n",
    "from nltk.stem import \tWordNetLemmatizer\n",
    "from nltk.stem.porter import PorterStemmer\n",
    "from nltk.corpus import stopwords\n",
    "stop_words = set(stopwords.words('english'))\n",
    "\n",
    "from tqdm import tqdm, trange\n",
    "import pandas as pd\n",
    "import io\n",
    "import numpy as np\n",
    "import matplotlib.pyplot as plt\n",
    "# % matplotlib inline\n"
   ]
  },
  {
   "cell_type": "code",
   "execution_count": null,
   "metadata": {
    "colab": {
     "base_uri": "https://localhost:8080/",
     "height": 35
    },
    "id": "QYohf8eQZvmI",
    "outputId": "ea7f2cc1-6165-46a1-a4b3-85e827d08aa8"
   },
   "outputs": [
    {
     "data": {
      "application/vnd.google.colaboratory.intrinsic+json": {
       "type": "string"
      },
      "text/plain": [
       "'Tesla T4'"
      ]
     },
     "execution_count": 7,
     "metadata": {
      "tags": []
     },
     "output_type": "execute_result"
    }
   ],
   "source": [
    "device = torch.device(\"cuda\" if torch.cuda.is_available() else \"cpu\")\n",
    "n_gpu = torch.cuda.device_count()\n",
    "torch.cuda.get_device_name(0)\n"
   ]
  },
  {
   "cell_type": "code",
   "execution_count": null,
   "metadata": {
    "id": "0NRCgJyWFQU8"
   },
   "outputs": [],
   "source": [
    "MAX_LEN = 128"
   ]
  },
  {
   "cell_type": "code",
   "execution_count": null,
   "metadata": {
    "id": "H-9BIVc_aJb3"
   },
   "outputs": [],
   "source": [
    "df = pd.read_csv(\"/content/drive/MyDrive/Colab Notebooks/covid_fake_news-main/data/Constraint_Train.csv\")\n",
    "val_df = pd.read_csv(\"/content/drive/MyDrive/Colab Notebooks/covid_fake_news-main/data/Constraint_Val.csv\")\n",
    "test_df = pd.read_csv(\"/content/drive/MyDrive/Colab Notebooks/covid_fake_news-main/data/Constraint_Test.csv\")\n"
   ]
  },
  {
   "cell_type": "code",
   "execution_count": null,
   "metadata": {
    "id": "Gtf--uEfVE7C"
   },
   "outputs": [],
   "source": [
    "wordnet_lemmatizer = WordNetLemmatizer()\n",
    "porter_stemmer  = PorterStemmer()\n"
   ]
  },
  {
   "cell_type": "code",
   "execution_count": null,
   "metadata": {
    "id": "EOO9UH0GvVSB"
   },
   "outputs": [],
   "source": [
    "p.set_options(p.OPT.URL, p.OPT.EMOJI)\n",
    "\n",
    "def preprocess(row, lemmatizer, stemmer):\n",
    "    text = row['tweet']\n",
    "    # text = text.strip('\\xa0')\n",
    "    text = p.clean(text)\n",
    "    tokenization = nltk.word_tokenize(text)     \n",
    "    tokenization = [w for w in tokenization if not w in stop_words]\n",
    "    #   text = ' '.join([porter_stemmer.stem(w) for w in tokenization])\n",
    "    #   text = ' '.join([lemmatizer.lemmatize(w) for w in tokenization])\n",
    "    # text = re.sub(r'\\([0-9]+\\)', '', text).strip()    \n",
    "    return text\n"
   ]
  },
  {
   "cell_type": "code",
   "execution_count": null,
   "metadata": {
    "id": "SnpJ27eIvVU2"
   },
   "outputs": [],
   "source": [
    "df['tweet'] = df.apply(lambda x: preprocess(x, wordnet_lemmatizer, porter_stemmer), 1)\n",
    "val_df['tweet'] = val_df.apply(lambda x: preprocess(x, wordnet_lemmatizer, porter_stemmer), 1)\n",
    "test_df['tweet'] = test_df.apply(lambda x: preprocess(x, wordnet_lemmatizer, porter_stemmer), 1)\n"
   ]
  },
  {
   "cell_type": "code",
   "execution_count": null,
   "metadata": {
    "id": "_dHcpDJmbgaK"
   },
   "outputs": [],
   "source": [
    "def map_label(row):\n",
    "    return 0 if row['label']=='real' else 1\n",
    "\n",
    "df['label_encoded'] = df.apply(lambda x: map_label(x), 1)\n",
    "val_df['label_encoded'] = val_df.apply(lambda x: map_label(x), 1)\n",
    "# test_df['label_encoded'] = test_df.apply(lambda x: map_label(x), 1)\n"
   ]
  },
  {
   "cell_type": "code",
   "execution_count": null,
   "metadata": {
    "id": "nkGKyR6ki-QQ"
   },
   "outputs": [],
   "source": [
    "train_sentences = df.tweet.values\n",
    "val_sentences = val_df.tweet.values\n",
    "test_sentences = test_df.tweet.values\n",
    "\n",
    "train_labels = df.label_encoded.values\n",
    "val_labels = val_df.label_encoded.values\n"
   ]
  },
  {
   "cell_type": "code",
   "execution_count": null,
   "metadata": {
    "colab": {
     "base_uri": "https://localhost:8080/",
     "height": 424
    },
    "id": "RbJ6iZZndzwt",
    "outputId": "80b7ddb2-7564-4124-8826-7673602da0cc"
   },
   "outputs": [
    {
     "data": {
      "text/html": [
       "<div>\n",
       "<style scoped>\n",
       "    .dataframe tbody tr th:only-of-type {\n",
       "        vertical-align: middle;\n",
       "    }\n",
       "\n",
       "    .dataframe tbody tr th {\n",
       "        vertical-align: top;\n",
       "    }\n",
       "\n",
       "    .dataframe thead th {\n",
       "        text-align: right;\n",
       "    }\n",
       "</style>\n",
       "<table border=\"1\" class=\"dataframe\">\n",
       "  <thead>\n",
       "    <tr style=\"text-align: right;\">\n",
       "      <th></th>\n",
       "      <th>id</th>\n",
       "      <th>tweet</th>\n",
       "      <th>label</th>\n",
       "      <th>label_encoded</th>\n",
       "    </tr>\n",
       "  </thead>\n",
       "  <tbody>\n",
       "    <tr>\n",
       "      <th>0</th>\n",
       "      <td>1</td>\n",
       "      <td>The CDC currently reports 99031 deaths. In gen...</td>\n",
       "      <td>real</td>\n",
       "      <td>0</td>\n",
       "    </tr>\n",
       "    <tr>\n",
       "      <th>1</th>\n",
       "      <td>2</td>\n",
       "      <td>States reported 1121 deaths a small rise from ...</td>\n",
       "      <td>real</td>\n",
       "      <td>0</td>\n",
       "    </tr>\n",
       "    <tr>\n",
       "      <th>2</th>\n",
       "      <td>3</td>\n",
       "      <td>Politically Correct Woman (Almost) Uses Pandem...</td>\n",
       "      <td>fake</td>\n",
       "      <td>1</td>\n",
       "    </tr>\n",
       "    <tr>\n",
       "      <th>3</th>\n",
       "      <td>4</td>\n",
       "      <td>#IndiaFightsCorona: We have 1524 #COVID testin...</td>\n",
       "      <td>real</td>\n",
       "      <td>0</td>\n",
       "    </tr>\n",
       "    <tr>\n",
       "      <th>4</th>\n",
       "      <td>5</td>\n",
       "      <td>Populous states can generate large case counts...</td>\n",
       "      <td>real</td>\n",
       "      <td>0</td>\n",
       "    </tr>\n",
       "    <tr>\n",
       "      <th>...</th>\n",
       "      <td>...</td>\n",
       "      <td>...</td>\n",
       "      <td>...</td>\n",
       "      <td>...</td>\n",
       "    </tr>\n",
       "    <tr>\n",
       "      <th>6415</th>\n",
       "      <td>6416</td>\n",
       "      <td>A tiger tested positive for COVID-19 please st...</td>\n",
       "      <td>fake</td>\n",
       "      <td>1</td>\n",
       "    </tr>\n",
       "    <tr>\n",
       "      <th>6416</th>\n",
       "      <td>6417</td>\n",
       "      <td>???Autopsies prove that COVID-19 is?? a blood ...</td>\n",
       "      <td>fake</td>\n",
       "      <td>1</td>\n",
       "    </tr>\n",
       "    <tr>\n",
       "      <th>6417</th>\n",
       "      <td>6418</td>\n",
       "      <td>_A post claims a COVID-19 vaccine has already ...</td>\n",
       "      <td>fake</td>\n",
       "      <td>1</td>\n",
       "    </tr>\n",
       "    <tr>\n",
       "      <th>6418</th>\n",
       "      <td>6419</td>\n",
       "      <td>Aamir Khan Donate 250 Cr. In PM Relief Cares Fund</td>\n",
       "      <td>fake</td>\n",
       "      <td>1</td>\n",
       "    </tr>\n",
       "    <tr>\n",
       "      <th>6419</th>\n",
       "      <td>6420</td>\n",
       "      <td>It has been 93 days since the last case of COV...</td>\n",
       "      <td>real</td>\n",
       "      <td>0</td>\n",
       "    </tr>\n",
       "  </tbody>\n",
       "</table>\n",
       "<p>6420 rows × 4 columns</p>\n",
       "</div>"
      ],
      "text/plain": [
       "        id  ... label_encoded\n",
       "0        1  ...             0\n",
       "1        2  ...             0\n",
       "2        3  ...             1\n",
       "3        4  ...             0\n",
       "4        5  ...             0\n",
       "...    ...  ...           ...\n",
       "6415  6416  ...             1\n",
       "6416  6417  ...             1\n",
       "6417  6418  ...             1\n",
       "6418  6419  ...             1\n",
       "6419  6420  ...             0\n",
       "\n",
       "[6420 rows x 4 columns]"
      ]
     },
     "execution_count": 34,
     "metadata": {
      "tags": []
     },
     "output_type": "execute_result"
    }
   ],
   "source": [
    "df"
   ]
  },
  {
   "cell_type": "code",
   "execution_count": null,
   "metadata": {
    "colab": {
     "base_uri": "https://localhost:8080/",
     "height": 198
    },
    "id": "BY65XykQGjyN",
    "outputId": "2b4b3dbd-b9d9-4fa0-99a4-255b310e531c"
   },
   "outputs": [
    {
     "data": {
      "image/png": "[encoded data removed]",
      "text/plain": [
       "<Figure size 432x288 with 1 Axes>"
      ]
     },
     "metadata": {
      "needs_background": "light",
      "tags": []
     },
     "output_type": "display_data"
    }
   ],
   "source": [
    "# Re-Modelling (not BERT)\n",
    "from wordcloud import WordCloud\n",
    "\n",
    "wc = WordCloud(background_color = \"black\")\n",
    "wc.generate(' '.join(df['tweet']))\n",
    "plt.imshow(wc, interpolation = \"bilinear\")\n",
    "plt.axis('off')\n",
    "plt.show()"
   ]
  },
  {
   "cell_type": "code",
   "execution_count": null,
   "metadata": {
    "colab": {
     "base_uri": "https://localhost:8080/",
     "height": 373
    },
    "id": "t6YpcVNDmtoW",
    "outputId": "fd8e4142-e35c-4e97-a8a5-8954dc2813f7"
   },
   "outputs": [
    {
     "data": {
      "image/png": "[encoded data removed]",
      "text/plain": [
       "<Figure size 720x360 with 2 Axes>"
      ]
     },
     "metadata": {
      "needs_background": "light",
      "tags": []
     },
     "output_type": "display_data"
    }
   ],
   "source": [
    "fig,(ax1,ax2) = plt.subplots(1,2,figsize=(10,5))\n",
    "char_len_dis = df[df['label_encoded']==1]['tweet'].str.len()\n",
    "ax1.hist(char_len_dis,color='red',edgecolor='black', linewidth=1.2)\n",
    "ax1.set_title('Fake Tweets')\n",
    "char_len_ndis = df[df['label_encoded']==0]['tweet'].str.len()\n",
    "ax2.hist(char_len_ndis,color='blue',edgecolor='black', linewidth=1.2)\n",
    "ax2.set_title('Real Tweets')\n",
    "plt.suptitle(\"Length of Characters in text\")\n",
    "plt.tight_layout()\n",
    "plt.show()\n"
   ]
  },
  {
   "cell_type": "code",
   "execution_count": null,
   "metadata": {
    "colab": {
     "base_uri": "https://localhost:8080/",
     "height": 373
    },
    "id": "DlwHEHrGnF-M",
    "outputId": "88b86d63-cca5-4a11-f1f9-19a3a869e3b5"
   },
   "outputs": [
    {
     "data": {
      "image/png": "[encoded data removed]",
      "text/plain": [
       "<Figure size 720x360 with 2 Axes>"
      ]
     },
     "metadata": {
      "needs_background": "light",
      "tags": []
     },
     "output_type": "display_data"
    }
   ],
   "source": [
    "# Analysing number of words in text.\n",
    "\n",
    "fig,(ax1,ax2) = plt.subplots(1,2,figsize=(10,5))\n",
    "char_len_dis = df[df['label_encoded']==1]['tweet'].str.split().map(lambda x: len(x))\n",
    "ax1.hist(char_len_dis,color='red',edgecolor='black', linewidth=1.2)\n",
    "ax1.set_title('Fake Tweets')\n",
    "char_len_ndis = df[df['label_encoded']==1]['tweet'].str.split().map(lambda x: len(x))\n",
    "ax2.hist(char_len_ndis,color='blue',edgecolor='black', linewidth=1.2)\n",
    "ax2.set_title('Real Tweets')\n",
    "plt.suptitle(\"Length of words in text\")\n",
    "plt.tight_layout()\n",
    "plt.show()"
   ]
  },
  {
   "cell_type": "code",
   "execution_count": null,
   "metadata": {
    "colab": {
     "base_uri": "https://localhost:8080/",
     "height": 1000
    },
    "id": "MCWiOS2ZdgvJ",
    "outputId": "20ae71b6-1ea2-472c-afc1-f14aae0c3aff"
   },
   "outputs": [
    {
     "data": {
      "image/png": "[encoded data removed]",
      "text/plain": [
       "<Figure size 1440x576 with 1 Axes>"
      ]
     },
     "metadata": {
      "needs_background": "light",
      "tags": []
     },
     "output_type": "display_data"
    },
    {
     "data": {
      "image/png": "[encoded data removed]",
      "text/plain": [
       "<Figure size 1440x576 with 1 Axes>"
      ]
     },
     "metadata": {
      "needs_background": "light",
      "tags": []
     },
     "output_type": "display_data"
    }
   ],
   "source": [
    "real_tweet = df[df.label_encoded == 0][\"tweet\"]\n",
    "fake_tweet = df[df.label_encoded == 1][\"tweet\"]\n",
    "\n",
    "color = ['Paired','Accent']\n",
    "splitedData = [real_tweet,fake_tweet]\n",
    "title = [\"Real Tweets\", \"Fake Tweets\"]\n",
    "for item in range(2):\n",
    "    plt.figure(figsize=(20,8))\n",
    "    plt.title(title[item],fontsize=12)\n",
    "    pd.Series(' '.join([i for i in splitedData[item]]).split()).value_counts().head(50).plot(kind='bar',fontsize=10,colormap=color[item],edgecolor='black', linewidth=1.2)\n",
    "    plt.show()"
   ]
  },
  {
   "cell_type": "code",
   "execution_count": null,
   "metadata": {
    "id": "Zu_AGJsSk9Qz"
   },
   "outputs": [],
   "source": [
    "from sklearn.feature_extraction.text import CountVectorizer\n",
    "from sklearn.feature_extraction.text import TfidfVectorizer\n",
    "\n",
    "def top_ngrams(data,n,grams):\n",
    "    '''\n",
    "    Input:- Data: Input Data\n",
    "            n   : Number of top n-words\n",
    "            grams:Type of N-grams. 1-> Unigram  2-> Bigram  3->Trigram\n",
    "            \n",
    "    Output: Word Frequency of top  n words\n",
    "    \n",
    "    '''\n",
    "    if grams == 1:\n",
    "        count_vec = CountVectorizer(ngram_range=(1,1)).fit(data)\n",
    "        bow = count_vec.transform(data)\n",
    "        add_words = bow.sum(axis=0)\n",
    "        word_freq = [(word, add_words[0, idx]) for word, idx in count_vec.vocabulary_.items()]\n",
    "        word_freq = sorted(word_freq, key = lambda x: x[1], reverse=True)\n",
    "    elif grams == 2:\n",
    "        count_vec = CountVectorizer(ngram_range=(2,2)).fit(data)\n",
    "        bow = count_vec.transform(data)\n",
    "        add_words = bow.sum(axis=0)\n",
    "        word_freq = [(word,add_words[0,idx]) for word,idx in count_vec.vocabulary_.items()]\n",
    "        word_freq = sorted(word_freq, key = lambda x: x[1], reverse=True)\n",
    "    elif grams == 3:\n",
    "        count_vec = CountVectorizer(ngram_range=(3,3)).fit(data)\n",
    "        bow = count_vec.transform(data)\n",
    "        add_words = bow.sum(axis=0)\n",
    "        word_freq = [(word,add_words[0,idx]) for word,idx in count_vec.vocabulary_.items()]\n",
    "        word_freq = sorted(word_freq, key = lambda x: x[1], reverse=True)\n",
    "\n",
    "    return word_freq[:n]"
   ]
  },
  {
   "cell_type": "code",
   "execution_count": null,
   "metadata": {
    "colab": {
     "base_uri": "https://localhost:8080/",
     "height": 1000
    },
    "id": "MrP-6u05lCLs",
    "outputId": "e5ec0cf4-4268-40f1-9e5b-1f26246ec967"
   },
   "outputs": [
    {
     "data": {
      "image/png": "[encoded data removed]",
      "text/plain": [
       "<Figure size 1080x1440 with 3 Axes>"
      ]
     },
     "metadata": {
      "needs_background": "light",
      "tags": []
     },
     "output_type": "display_data"
    }
   ],
   "source": [
    "common_words_uni = top_ngrams(df.tweet,20,1)\n",
    "common_words_bi = top_ngrams(df.tweet,20,2)\n",
    "common_words_tri = top_ngrams(df.tweet,20,3)\n",
    "common_words_uni_df = pd.DataFrame(common_words_uni,columns=['word','freq'])\n",
    "common_words_bi_df = pd.DataFrame(common_words_bi,columns=['word','freq'])\n",
    "common_words_tri_df = pd.DataFrame(common_words_tri,columns=['word','freq'])\n",
    "fig,(ax1,ax2,ax3) = plt.subplots(3,1,figsize=(15,20))\n",
    "ax1.bar(common_words_uni_df[\"word\"],common_words_uni_df[\"freq\"],color=\"#FFCCCB\",edgecolor='black', linewidth=1.2)\n",
    "ax1.set_title(\"Top 20 Unigrams in Text.\")\n",
    "ax1.set_xlabel(\"Words\")\n",
    "ax1.set_ylabel(\"Frequency\")\n",
    "ax1.set_xticklabels(rotation=90,labels=common_words_uni_df[\"word\"],fontsize=10)    \n",
    "\n",
    "ax2.bar(common_words_bi_df[\"word\"],common_words_bi_df[\"freq\"],color=\"lightblue\",edgecolor='black', linewidth=1.2)\n",
    "ax2.set_title(\"Top 20 Bigrams in Text.\")\n",
    "ax2.set_xlabel(\"Words\")\n",
    "ax2.set_ylabel(\"Frequency\")\n",
    "ax2.set_xticklabels(rotation=90,labels=common_words_bi_df[\"word\"],fontsize=10)    \n",
    "\n",
    "ax3.bar(common_words_tri_df[\"word\"],common_words_tri_df[\"freq\"] ,color=\"lightgreen\",edgecolor='black', linewidth=1.2)\n",
    "ax3.set_title(\"Top 20 Trigrams in Text.\")\n",
    "ax3.set_xlabel(\"Words\")\n",
    "ax3.set_ylabel(\"Frequency\")\n",
    "ax3.set_xticklabels(rotation=90,labels=common_words_tri_df[\"word\"],fontsize=10) \n",
    "plt.suptitle(\"Visualization of Top 20 Unigrams, Bigrams and Trigrams\",fontsize=\"15\")\n",
    "plt.tight_layout(pad=1.85)\n",
    "plt.show()"
   ]
  },
  {
   "cell_type": "code",
   "execution_count": null,
   "metadata": {
    "id": "M3hY5vDQnqq8"
   },
   "outputs": [],
   "source": [
    "# Creating functions for using BOW,TF-IDF \n",
    "\n",
    "def encoding(train_data,test_data,bow,tf_idf):\n",
    "    '''\n",
    "    Input : Data to be encoded and choice of encoding.\n",
    "    Output : Desired Encoding.\n",
    "    \n",
    "    '''\n",
    "    if bow==True: \n",
    "        cv = CountVectorizer(ngram_range=(1, 1))\n",
    "        cv_df_train = cv.fit_transform(train_data).toarray()\n",
    "        train_df = pd.DataFrame(cv_df_train,columns=cv.get_feature_names())\n",
    "        cv_df_test = cv.transform(test_data).toarray()\n",
    "        test_df = pd.DataFrame(cv_df_test,columns=cv.get_feature_names())\n",
    "        \n",
    "    elif tf_idf==True:\n",
    "        \n",
    "        tfidf = TfidfVectorizer(\n",
    "            ngram_range=(1, 1), use_idf=1,smooth_idf=1,sublinear_tf=1)    \n",
    "        tf_df_train = tfidf.fit_transform(train_data).toarray()\n",
    "        train_df = pd.DataFrame(tf_df_train,columns=tfidf.get_feature_names())\n",
    "        tf_df_test = tfidf.transform(test_data).toarray()\n",
    "        test_df = pd.DataFrame(tf_df_test,columns=tfidf.get_feature_names())\n",
    "        \n",
    "    return train_df,test_df\n",
    "\n",
    "\n",
    "df_final,test_df_final = encoding(df.tweet,test_df.tweet,bow=True,tf_idf=False)\n",
    "label_final = np.array(df.label_encoded) # Converting y to array"
   ]
  },
  {
   "cell_type": "code",
   "execution_count": null,
   "metadata": {
    "colab": {
     "base_uri": "https://localhost:8080/"
    },
    "id": "ETJJq5T8o553",
    "outputId": "7adb462f-2b81-43d5-d03b-849690c0d7fa"
   },
   "outputs": [
    {
     "data": {
      "text/plain": [
       "((6420, 14480), (6420,), (2140, 14480))"
      ]
     },
     "execution_count": 49,
     "metadata": {
      "tags": []
     },
     "output_type": "execute_result"
    }
   ],
   "source": [
    "df_final.shape,label_final.shape,test_df_final.shape"
   ]
  },
  {
   "cell_type": "code",
   "execution_count": null,
   "metadata": {
    "colab": {
     "base_uri": "https://localhost:8080/"
    },
    "id": "8IY4I969pBtx",
    "outputId": "0eff9c65-5fe3-448b-96a6-1815c3d78279"
   },
   "outputs": [
    {
     "data": {
      "text/plain": [
       "['The CDC currently reports 99031 deaths. In general the discrepancies in death counts between different sources are small and explicable. The death toll stands at roughly 100000 people today.',\n",
       " 'States reported 1121 deaths a small rise from last Tuesday. Southern states reported 640 of those deaths.',\n",
       " 'Politically Correct Woman (Almost) Uses Pandemic as Excuse Not to Reuse Plastic Bag #coronavirus #nashville']"
      ]
     },
     "execution_count": 50,
     "metadata": {
      "tags": []
     },
     "output_type": "execute_result"
    }
   ],
   "source": [
    "# Converting to list\n",
    "text = df.tweet.tolist()\n",
    "text_test = test_df.tweet.tolist()\n",
    "text[:3] # Analysing first 3 sentence in train data."
   ]
  },
  {
   "cell_type": "code",
   "execution_count": null,
   "metadata": {
    "id": "Ij5EPW15pK8t"
   },
   "outputs": [],
   "source": [
    "from tensorflow.keras.preprocessing.text import Tokenizer\n",
    "token = Tokenizer()\n",
    "token.fit_on_texts(text)"
   ]
  },
  {
   "cell_type": "code",
   "execution_count": null,
   "metadata": {
    "id": "ydP-HsHppScY"
   },
   "outputs": [],
   "source": [
    "encoded_text = token.texts_to_sequences(text)\n",
    "encoded_text_test = token.texts_to_sequences(text_test)\n",
    "encoded_text[:2]"
   ]
  },
  {
   "cell_type": "code",
   "execution_count": null,
   "metadata": {
    "colab": {
     "base_uri": "https://localhost:8080/"
    },
    "id": "it2gV6UUpOwn",
    "outputId": "986b6328-7b58-488c-862b-dad881b5a3a9"
   },
   "outputs": [
    {
     "name": "stdout",
     "output_type": "stream",
     "text": [
      "The vocabulary size is : 14822\n"
     ]
    }
   ],
   "source": [
    "# Finding the vocab size\n",
    "vocab_size = len(token.word_index)+1\n",
    "print(\"The vocabulary size is : {}\".format(vocab_size))"
   ]
  },
  {
   "cell_type": "code",
   "execution_count": null,
   "metadata": {
    "colab": {
     "base_uri": "https://localhost:8080/"
    },
    "id": "-XKV0Y9upWT-",
    "outputId": "e56a1327-46fd-4926-9337-430e68b76c02"
   },
   "outputs": [
    {
     "data": {
      "text/plain": [
       "array([[   1,  146,  302, ...,    0,    0,    0],\n",
       "       [  37,   48, 7055, ...,    0,    0,    0],\n",
       "       [5005, 1911,  480, ...,    0,    0,    0],\n",
       "       ...,\n",
       "       [   5,  303,  174, ...,    0,    0,    0],\n",
       "       [2973, 1075, 2842, ...,    0,    0,    0],\n",
       "       [  35,   21,   38, ...,    0,    0,    0]], dtype=int32)"
      ]
     },
     "execution_count": 54,
     "metadata": {
      "tags": []
     },
     "output_type": "execute_result"
    }
   ],
   "source": [
    "# Considering 120 words\n",
    "max_length = 120 # Considering top 120 tokens.\n",
    "X = pad_sequences(encoded_text,maxlen=max_length,padding='post') # This is done to make the sequence of same length.\n",
    "X_test = pad_sequences(encoded_text_test,maxlen=max_length,padding='post')\n",
    "X"
   ]
  },
  {
   "cell_type": "code",
   "execution_count": null,
   "metadata": {
    "id": "Z6-b_XUQpzRI"
   },
   "outputs": [],
   "source": [
    "# Dividing the data into training, validation and testing\n",
    "from sklearn.model_selection import train_test_split\n",
    "\n",
    "#  for Word Embeddings\n",
    "x_train, x_test, y_train, y_test = train_test_split(X, df.label_encoded, test_size=0.1, random_state=42)"
   ]
  },
  {
   "cell_type": "code",
   "execution_count": null,
   "metadata": {
    "id": "xgxIWiKtufqj"
   },
   "outputs": [],
   "source": [
    "# Validation setting\n",
    "X_train, X_valid, Y_train, Y_valid = train_test_split(x_train, y_train, test_size=0.1, random_state=42)"
   ]
  },
  {
   "cell_type": "code",
   "execution_count": null,
   "metadata": {
    "colab": {
     "base_uri": "https://localhost:8080/"
    },
    "id": "25bIylj8qV4x",
    "outputId": "1c95fc0a-1764-4cac-8c94-ab2960b94143"
   },
   "outputs": [
    {
     "name": "stdout",
     "output_type": "stream",
     "text": [
      "              precision    recall  f1-score   support\n",
      "\n",
      "           0       0.73      0.61      0.66       340\n",
      "           1       0.63      0.74      0.68       302\n",
      "\n",
      "    accuracy                           0.67       642\n",
      "   macro avg       0.68      0.68      0.67       642\n",
      "weighted avg       0.68      0.67      0.67       642\n",
      "\n"
     ]
    },
    {
     "name": "stderr",
     "output_type": "stream",
     "text": [
      "/usr/local/lib/python3.7/dist-packages/sklearn/linear_model/_logistic.py:940: ConvergenceWarning: lbfgs failed to converge (status=1):\n",
      "STOP: TOTAL NO. of ITERATIONS REACHED LIMIT.\n",
      "\n",
      "Increase the number of iterations (max_iter) or scale the data as shown in:\n",
      "    https://scikit-learn.org/stable/modules/preprocessing.html\n",
      "Please also refer to the documentation for alternative solver options:\n",
      "    https://scikit-learn.org/stable/modules/linear_model.html#logistic-regression\n",
      "  extra_warning_msg=_LOGISTIC_SOLVER_CONVERGENCE_MSG)\n"
     ]
    }
   ],
   "source": [
    "from sklearn.linear_model import LogisticRegression\n",
    "from sklearn.metrics import classification_report,accuracy_score\n",
    "\n",
    "model_1 = LogisticRegression(C=1.0)\n",
    "model_1.fit(x_train, y_train)\n",
    "pred_1 = model_1.predict(x_test)\n",
    "cr1 = classification_report(y_test,pred_1)\n",
    "print(cr1)"
   ]
  },
  {
   "cell_type": "code",
   "execution_count": null,
   "metadata": {
    "colab": {
     "base_uri": "https://localhost:8080/"
    },
    "id": "ieHzM1lernjX",
    "outputId": "27662df3-b9a0-4065-923a-4bebf9c7f728"
   },
   "outputs": [
    {
     "name": "stdout",
     "output_type": "stream",
     "text": [
      "              precision    recall  f1-score   support\n",
      "\n",
      "           0       0.74      0.65      0.69       340\n",
      "           1       0.65      0.75      0.70       302\n",
      "\n",
      "    accuracy                           0.69       642\n",
      "   macro avg       0.70      0.70      0.69       642\n",
      "weighted avg       0.70      0.69      0.69       642\n",
      "\n"
     ]
    }
   ],
   "source": [
    "from sklearn.naive_bayes import MultinomialNB\n",
    "\n",
    "model_2 = MultinomialNB(alpha=0.7)\n",
    "model_2.fit(x_train,y_train)\n",
    "pred_2 = model_2.predict(x_test)\n",
    "cr2    = classification_report(y_test,pred_2)\n",
    "print(cr2)"
   ]
  },
  {
   "cell_type": "code",
   "execution_count": null,
   "metadata": {
    "colab": {
     "base_uri": "https://localhost:8080/"
    },
    "id": "oqTo-cNzr2qQ",
    "outputId": "9e70d7de-36dc-4f71-edc6-95af1502dea1"
   },
   "outputs": [
    {
     "name": "stdout",
     "output_type": "stream",
     "text": [
      "              precision    recall  f1-score   support\n",
      "\n",
      "           0       0.78      0.76      0.77       340\n",
      "           1       0.74      0.75      0.75       302\n",
      "\n",
      "    accuracy                           0.76       642\n",
      "   macro avg       0.76      0.76      0.76       642\n",
      "weighted avg       0.76      0.76      0.76       642\n",
      "\n"
     ]
    }
   ],
   "source": [
    "from sklearn.tree import DecisionTreeClassifier\n",
    "\n",
    "model_3 = DecisionTreeClassifier()\n",
    "model_3.fit(x_train,y_train)\n",
    "pred_3 = model_3.predict(x_test)\n",
    "cr3    = classification_report(y_test,pred_3)\n",
    "print(cr3)"
   ]
  },
  {
   "cell_type": "code",
   "execution_count": null,
   "metadata": {
    "colab": {
     "base_uri": "https://localhost:8080/"
    },
    "id": "QyUzO_lgr3gz",
    "outputId": "ed273e09-a8e2-4d0b-fe6d-81649efdba1d"
   },
   "outputs": [
    {
     "name": "stdout",
     "output_type": "stream",
     "text": [
      "              precision    recall  f1-score   support\n",
      "\n",
      "           0       0.77      0.83      0.80       340\n",
      "           1       0.79      0.72      0.75       302\n",
      "\n",
      "    accuracy                           0.78       642\n",
      "   macro avg       0.78      0.78      0.78       642\n",
      "weighted avg       0.78      0.78      0.78       642\n",
      "\n"
     ]
    }
   ],
   "source": [
    "from sklearn.ensemble import RandomForestClassifier\n",
    "\n",
    "model_4 = RandomForestClassifier()\n",
    "model_4.fit(x_train,y_train)\n",
    "pred_4 = model_4.predict(x_test)\n",
    "cr4    = classification_report(y_test,pred_4)\n",
    "print(cr4)\n"
   ]
  },
  {
   "cell_type": "code",
   "execution_count": null,
   "metadata": {
    "colab": {
     "base_uri": "https://localhost:8080/"
    },
    "id": "6X0tzfyMr6FL",
    "outputId": "15c67f10-29ce-40a7-d445-01b71a343808"
   },
   "outputs": [
    {
     "name": "stdout",
     "output_type": "stream",
     "text": [
      "              precision    recall  f1-score   support\n",
      "\n",
      "           0       0.78      0.82      0.80       340\n",
      "           1       0.79      0.74      0.76       302\n",
      "\n",
      "    accuracy                           0.78       642\n",
      "   macro avg       0.78      0.78      0.78       642\n",
      "weighted avg       0.78      0.78      0.78       642\n",
      "\n"
     ]
    }
   ],
   "source": [
    "from xgboost import XGBClassifier\n",
    "\n",
    "model_5 = XGBClassifier()\n",
    "model_5.fit(x_train,y_train)\n",
    "pred_5 = model_5.predict(x_test)\n",
    "cr5    = classification_report(y_test,pred_5)\n",
    "print(cr5)\n"
   ]
  },
  {
   "cell_type": "code",
   "execution_count": null,
   "metadata": {
    "colab": {
     "base_uri": "https://localhost:8080/"
    },
    "id": "iIcL69YAr74B",
    "outputId": "bfd83ec0-42e0-4312-f5c0-def7999d3e52"
   },
   "outputs": [
    {
     "name": "stdout",
     "output_type": "stream",
     "text": [
      "Collecting catboost\n",
      "\u001b[?25l  Downloading https://files.pythonhosted.org/packages/47/80/8e9c57ec32dfed6ba2922bc5c96462cbf8596ce1a6f5de532ad1e43e53fe/catboost-0.25.1-cp37-none-manylinux1_x86_64.whl (67.3MB)\n",
      "\u001b[K     |████████████████████████████████| 67.3MB 152kB/s \n",
      "\u001b[?25hRequirement already satisfied: six in /usr/local/lib/python3.7/dist-packages (from catboost) (1.15.0)\n",
      "Requirement already satisfied: pandas>=0.24.0 in /usr/local/lib/python3.7/dist-packages (from catboost) (1.1.5)\n",
      "Requirement already satisfied: plotly in /usr/local/lib/python3.7/dist-packages (from catboost) (4.4.1)\n",
      "Requirement already satisfied: graphviz in /usr/local/lib/python3.7/dist-packages (from catboost) (0.10.1)\n",
      "Requirement already satisfied: scipy in /usr/local/lib/python3.7/dist-packages (from catboost) (1.4.1)\n",
      "Requirement already satisfied: numpy>=1.16.0 in /usr/local/lib/python3.7/dist-packages (from catboost) (1.19.5)\n",
      "Requirement already satisfied: matplotlib in /usr/local/lib/python3.7/dist-packages (from catboost) (3.2.2)\n",
      "Requirement already satisfied: python-dateutil>=2.7.3 in /usr/local/lib/python3.7/dist-packages (from pandas>=0.24.0->catboost) (2.8.1)\n",
      "Requirement already satisfied: pytz>=2017.2 in /usr/local/lib/python3.7/dist-packages (from pandas>=0.24.0->catboost) (2018.9)\n",
      "Requirement already satisfied: retrying>=1.3.3 in /usr/local/lib/python3.7/dist-packages (from plotly->catboost) (1.3.3)\n",
      "Requirement already satisfied: cycler>=0.10 in /usr/local/lib/python3.7/dist-packages (from matplotlib->catboost) (0.10.0)\n",
      "Requirement already satisfied: kiwisolver>=1.0.1 in /usr/local/lib/python3.7/dist-packages (from matplotlib->catboost) (1.3.1)\n",
      "Requirement already satisfied: pyparsing!=2.0.4,!=2.1.2,!=2.1.6,>=2.0.1 in /usr/local/lib/python3.7/dist-packages (from matplotlib->catboost) (2.4.7)\n",
      "Installing collected packages: catboost\n",
      "Successfully installed catboost-0.25.1\n",
      "Learning rate set to 0.179975\n",
      "0:\tlearn: 0.6495383\ttotal: 69.6ms\tremaining: 6.89s\n",
      "1:\tlearn: 0.6213385\ttotal: 88.1ms\tremaining: 4.32s\n",
      "2:\tlearn: 0.5959227\ttotal: 107ms\tremaining: 3.44s\n",
      "3:\tlearn: 0.5717489\ttotal: 124ms\tremaining: 2.99s\n",
      "4:\tlearn: 0.5589007\ttotal: 143ms\tremaining: 2.71s\n",
      "5:\tlearn: 0.5507016\ttotal: 160ms\tremaining: 2.51s\n",
      "6:\tlearn: 0.5424903\ttotal: 178ms\tremaining: 2.36s\n",
      "7:\tlearn: 0.5257956\ttotal: 196ms\tremaining: 2.25s\n",
      "8:\tlearn: 0.5215407\ttotal: 216ms\tremaining: 2.19s\n",
      "9:\tlearn: 0.5132173\ttotal: 237ms\tremaining: 2.13s\n",
      "10:\tlearn: 0.5077903\ttotal: 257ms\tremaining: 2.08s\n",
      "11:\tlearn: 0.5014234\ttotal: 275ms\tremaining: 2.01s\n",
      "12:\tlearn: 0.4958761\ttotal: 292ms\tremaining: 1.96s\n",
      "13:\tlearn: 0.4919426\ttotal: 310ms\tremaining: 1.9s\n",
      "14:\tlearn: 0.4874925\ttotal: 326ms\tremaining: 1.85s\n",
      "15:\tlearn: 0.4834896\ttotal: 344ms\tremaining: 1.81s\n",
      "16:\tlearn: 0.4795329\ttotal: 370ms\tremaining: 1.8s\n",
      "17:\tlearn: 0.4765674\ttotal: 391ms\tremaining: 1.78s\n",
      "18:\tlearn: 0.4727945\ttotal: 408ms\tremaining: 1.74s\n",
      "19:\tlearn: 0.4693533\ttotal: 429ms\tremaining: 1.72s\n",
      "20:\tlearn: 0.4658578\ttotal: 447ms\tremaining: 1.68s\n",
      "21:\tlearn: 0.4634957\ttotal: 464ms\tremaining: 1.65s\n",
      "22:\tlearn: 0.4611412\ttotal: 482ms\tremaining: 1.61s\n",
      "23:\tlearn: 0.4589595\ttotal: 501ms\tremaining: 1.59s\n",
      "24:\tlearn: 0.4549541\ttotal: 518ms\tremaining: 1.55s\n",
      "25:\tlearn: 0.4532961\ttotal: 536ms\tremaining: 1.52s\n",
      "26:\tlearn: 0.4494664\ttotal: 559ms\tremaining: 1.51s\n",
      "27:\tlearn: 0.4466699\ttotal: 577ms\tremaining: 1.48s\n",
      "28:\tlearn: 0.4445432\ttotal: 594ms\tremaining: 1.45s\n",
      "29:\tlearn: 0.4431593\ttotal: 611ms\tremaining: 1.43s\n",
      "30:\tlearn: 0.4421425\ttotal: 628ms\tremaining: 1.4s\n",
      "31:\tlearn: 0.4399337\ttotal: 649ms\tremaining: 1.38s\n",
      "32:\tlearn: 0.4374474\ttotal: 666ms\tremaining: 1.35s\n",
      "33:\tlearn: 0.4360509\ttotal: 683ms\tremaining: 1.32s\n",
      "34:\tlearn: 0.4326850\ttotal: 700ms\tremaining: 1.3s\n",
      "35:\tlearn: 0.4305313\ttotal: 718ms\tremaining: 1.28s\n",
      "36:\tlearn: 0.4281279\ttotal: 738ms\tremaining: 1.26s\n",
      "37:\tlearn: 0.4266158\ttotal: 755ms\tremaining: 1.23s\n",
      "38:\tlearn: 0.4246966\ttotal: 774ms\tremaining: 1.21s\n",
      "39:\tlearn: 0.4233273\ttotal: 791ms\tremaining: 1.19s\n",
      "40:\tlearn: 0.4214885\ttotal: 809ms\tremaining: 1.16s\n",
      "41:\tlearn: 0.4200011\ttotal: 826ms\tremaining: 1.14s\n",
      "42:\tlearn: 0.4167084\ttotal: 847ms\tremaining: 1.12s\n",
      "43:\tlearn: 0.4147089\ttotal: 864ms\tremaining: 1.1s\n",
      "44:\tlearn: 0.4125206\ttotal: 880ms\tremaining: 1.07s\n",
      "45:\tlearn: 0.4101200\ttotal: 902ms\tremaining: 1.06s\n",
      "46:\tlearn: 0.4071061\ttotal: 921ms\tremaining: 1.04s\n",
      "47:\tlearn: 0.4047741\ttotal: 939ms\tremaining: 1.02s\n",
      "48:\tlearn: 0.4028475\ttotal: 957ms\tremaining: 996ms\n",
      "49:\tlearn: 0.3995139\ttotal: 975ms\tremaining: 975ms\n",
      "50:\tlearn: 0.3978537\ttotal: 992ms\tremaining: 953ms\n",
      "51:\tlearn: 0.3956395\ttotal: 1.01s\tremaining: 933ms\n",
      "52:\tlearn: 0.3932409\ttotal: 1.03s\tremaining: 913ms\n",
      "53:\tlearn: 0.3902961\ttotal: 1.05s\tremaining: 896ms\n",
      "54:\tlearn: 0.3882631\ttotal: 1.07s\tremaining: 876ms\n",
      "55:\tlearn: 0.3860052\ttotal: 1.09s\tremaining: 856ms\n",
      "56:\tlearn: 0.3837929\ttotal: 1.11s\tremaining: 836ms\n",
      "57:\tlearn: 0.3809763\ttotal: 1.13s\tremaining: 816ms\n",
      "58:\tlearn: 0.3780088\ttotal: 1.15s\tremaining: 796ms\n",
      "59:\tlearn: 0.3762510\ttotal: 1.17s\tremaining: 779ms\n",
      "60:\tlearn: 0.3729778\ttotal: 1.19s\tremaining: 759ms\n",
      "61:\tlearn: 0.3709061\ttotal: 1.21s\tremaining: 739ms\n",
      "62:\tlearn: 0.3688176\ttotal: 1.22s\tremaining: 719ms\n",
      "63:\tlearn: 0.3662076\ttotal: 1.24s\tremaining: 700ms\n",
      "64:\tlearn: 0.3645042\ttotal: 1.26s\tremaining: 681ms\n",
      "65:\tlearn: 0.3621086\ttotal: 1.28s\tremaining: 661ms\n",
      "66:\tlearn: 0.3599893\ttotal: 1.3s\tremaining: 641ms\n",
      "67:\tlearn: 0.3569554\ttotal: 1.32s\tremaining: 621ms\n",
      "68:\tlearn: 0.3555689\ttotal: 1.34s\tremaining: 600ms\n",
      "69:\tlearn: 0.3537720\ttotal: 1.35s\tremaining: 580ms\n",
      "70:\tlearn: 0.3518262\ttotal: 1.38s\tremaining: 564ms\n",
      "71:\tlearn: 0.3503876\ttotal: 1.4s\tremaining: 544ms\n",
      "72:\tlearn: 0.3486596\ttotal: 1.42s\tremaining: 523ms\n",
      "73:\tlearn: 0.3470844\ttotal: 1.43s\tremaining: 503ms\n",
      "74:\tlearn: 0.3451811\ttotal: 1.45s\tremaining: 483ms\n",
      "75:\tlearn: 0.3438604\ttotal: 1.48s\tremaining: 466ms\n",
      "76:\tlearn: 0.3412674\ttotal: 1.49s\tremaining: 446ms\n",
      "77:\tlearn: 0.3401768\ttotal: 1.51s\tremaining: 426ms\n",
      "78:\tlearn: 0.3380231\ttotal: 1.53s\tremaining: 406ms\n",
      "79:\tlearn: 0.3357713\ttotal: 1.55s\tremaining: 387ms\n",
      "80:\tlearn: 0.3342697\ttotal: 1.56s\tremaining: 367ms\n",
      "81:\tlearn: 0.3319608\ttotal: 1.58s\tremaining: 347ms\n",
      "82:\tlearn: 0.3296005\ttotal: 1.6s\tremaining: 328ms\n",
      "83:\tlearn: 0.3275994\ttotal: 1.62s\tremaining: 308ms\n",
      "84:\tlearn: 0.3260398\ttotal: 1.64s\tremaining: 289ms\n",
      "85:\tlearn: 0.3230379\ttotal: 1.66s\tremaining: 269ms\n",
      "86:\tlearn: 0.3207083\ttotal: 1.67s\tremaining: 250ms\n",
      "87:\tlearn: 0.3184999\ttotal: 1.69s\tremaining: 231ms\n",
      "88:\tlearn: 0.3164771\ttotal: 1.71s\tremaining: 212ms\n",
      "89:\tlearn: 0.3155840\ttotal: 1.73s\tremaining: 192ms\n",
      "90:\tlearn: 0.3143007\ttotal: 1.75s\tremaining: 173ms\n",
      "91:\tlearn: 0.3136004\ttotal: 1.77s\tremaining: 154ms\n",
      "92:\tlearn: 0.3113842\ttotal: 1.79s\tremaining: 134ms\n",
      "93:\tlearn: 0.3095031\ttotal: 1.8s\tremaining: 115ms\n",
      "94:\tlearn: 0.3076326\ttotal: 1.82s\tremaining: 95.9ms\n",
      "95:\tlearn: 0.3059503\ttotal: 1.84s\tremaining: 76.7ms\n",
      "96:\tlearn: 0.3050231\ttotal: 1.86s\tremaining: 57.5ms\n",
      "97:\tlearn: 0.3042216\ttotal: 1.88s\tremaining: 38.3ms\n",
      "98:\tlearn: 0.3031516\ttotal: 1.9s\tremaining: 19.1ms\n",
      "99:\tlearn: 0.3019810\ttotal: 1.92s\tremaining: 0us\n",
      "              precision    recall  f1-score   support\n",
      "\n",
      "           0       0.79      0.81      0.80       340\n",
      "           1       0.78      0.76      0.77       302\n",
      "\n",
      "    accuracy                           0.79       642\n",
      "   macro avg       0.79      0.79      0.79       642\n",
      "weighted avg       0.79      0.79      0.79       642\n",
      "\n"
     ]
    }
   ],
   "source": [
    "# !pip install catboost\n",
    "from catboost import CatBoostClassifier\n",
    "\n",
    "model_6 = CatBoostClassifier(iterations=100)\n",
    "model_6.fit(x_train,y_train)\n",
    "pred_6 = model_6.predict(x_test)\n",
    "cr6    = classification_report(y_test,pred_6)\n",
    "print(cr6)\n"
   ]
  },
  {
   "cell_type": "code",
   "execution_count": null,
   "metadata": {
    "colab": {
     "base_uri": "https://localhost:8080/"
    },
    "id": "4KenS6mzr94m",
    "outputId": "611ec9da-75ef-4bdd-d3b4-a19edb766002"
   },
   "outputs": [
    {
     "name": "stdout",
     "output_type": "stream",
     "text": [
      "              precision    recall  f1-score   support\n",
      "\n",
      "           0       0.69      0.49      0.57       340\n",
      "           1       0.57      0.75      0.65       302\n",
      "\n",
      "    accuracy                           0.62       642\n",
      "   macro avg       0.63      0.62      0.61       642\n",
      "weighted avg       0.63      0.62      0.61       642\n",
      "\n"
     ]
    }
   ],
   "source": [
    "from sklearn.linear_model import PassiveAggressiveClassifier\n",
    "model_7 = PassiveAggressiveClassifier()\n",
    "model_7.fit(x_train,y_train)\n",
    "pred_7 = model_7.predict(x_test)\n",
    "cr7    = classification_report(y_test,pred_7)\n",
    "print(cr7)"
   ]
  },
  {
   "cell_type": "code",
   "execution_count": null,
   "metadata": {
    "colab": {
     "base_uri": "https://localhost:8080/"
    },
    "id": "mSDEgLObsABE",
    "outputId": "d6c18b9d-2821-43cc-d0f8-b0df2b880ea1"
   },
   "outputs": [
    {
     "name": "stderr",
     "output_type": "stream",
     "text": [
      "/usr/local/lib/python3.7/dist-packages/sklearn/linear_model/_logistic.py:940: ConvergenceWarning: lbfgs failed to converge (status=1):\n",
      "STOP: TOTAL NO. of ITERATIONS REACHED LIMIT.\n",
      "\n",
      "Increase the number of iterations (max_iter) or scale the data as shown in:\n",
      "    https://scikit-learn.org/stable/modules/preprocessing.html\n",
      "Please also refer to the documentation for alternative solver options:\n",
      "    https://scikit-learn.org/stable/modules/linear_model.html#logistic-regression\n",
      "  extra_warning_msg=_LOGISTIC_SOLVER_CONVERGENCE_MSG)\n"
     ]
    },
    {
     "name": "stdout",
     "output_type": "stream",
     "text": [
      "              precision    recall  f1-score   support\n",
      "\n",
      "           0       0.74      0.65      0.69       340\n",
      "           1       0.65      0.75      0.70       302\n",
      "\n",
      "    accuracy                           0.69       642\n",
      "   macro avg       0.70      0.70      0.69       642\n",
      "weighted avg       0.70      0.69      0.69       642\n",
      "\n"
     ]
    }
   ],
   "source": [
    "from sklearn.ensemble import VotingClassifier\n",
    "\n",
    "estimators = []\n",
    "estimators.append(('LR', \n",
    "                  LogisticRegression(C=1.0)))\n",
    "estimators.append(('NB', MultinomialNB(alpha=0.7)))\n",
    "estimators.append(('XBG', XGBClassifier()))\n",
    "\n",
    "\n",
    "vc = VotingClassifier(estimators=estimators,voting='soft')\n",
    "vc.fit(x_train,y_train)\n",
    "pred_vc = vc.predict(x_test)\n",
    "cr_vc    = classification_report(y_test,pred_vc)\n",
    "print(cr_vc)\n"
   ]
  },
  {
   "cell_type": "code",
   "execution_count": null,
   "metadata": {
    "id": "OVwrG8IMsCZf"
   },
   "outputs": [],
   "source": [
    "# LSTM\n",
    "# glove_vectors matrix needed\n",
    "\n",
    "from tensorflow.keras.layers import Embedding,Dropout\n",
    "from tensorflow.keras.preprocessing.sequence import pad_sequences\n",
    "from tensorflow.keras.models import Sequential\n",
    "from tensorflow.keras.preprocessing.text import one_hot\n",
    "from tensorflow.keras.layers import LSTM,Bidirectional,GRU,MaxPooling1D,Conv1D\n",
    "from tensorflow.keras.layers import Dense\n",
    "from keras.optimizers import Adam,SGD\n",
    "from tensorflow.keras import regularizers\n",
    "\n",
    "embedding_feature_vector = 200 # Since we used glove vector embedding of dim 200.\n",
    "model = Sequential()\n",
    "model.add(Embedding(vocab_size,embedding_feature_vector,input_length=max_length,weights = [word_vector_matrix], trainable = False))\n",
    "model.add(Dropout(0.35))\n",
    "model.add(LSTM(200))\n",
    "model.add(Dropout(0.35))\n",
    "model.add(Dense(32,activation='relu'))\n",
    "model.add(Dense(1,activation='sigmoid'))\n",
    "model.compile(loss='binary_crossentropy',optimizer=Adam(lr=1e-4),metrics=['accuracy'])\n",
    "print(model.summary())"
   ]
  },
  {
   "cell_type": "code",
   "execution_count": null,
   "metadata": {
    "id": "GXCZxBRcsOnL"
   },
   "outputs": [],
   "source": [
    "# LSTM 2\n",
    "\n",
    "from tensorflow.keras.callbacks import *\n",
    "n_epoch = 30\n",
    "\n",
    "early_stop = EarlyStopping(monitor='val_loss', patience=5, verbose=1, \n",
    "                           mode='min', restore_best_weights=True)\n",
    "\n",
    "reduce_lr = ReduceLROnPlateau(monitor='val_loss', factor=0.1, patience=5, \n",
    "                              verbose=1, mode='min')\n",
    "\n",
    "history = model.fit(x_train,y_train,callbacks=[reduce_lr,early_stop],epochs=n_epoch,batch_size= 64)\n",
    "\n",
    "predictions = model.predict_classes(x_test)\n",
    "cr = classification_report(y_test,predictions)\n",
    "print(cr)"
   ]
  },
  {
   "cell_type": "code",
   "execution_count": null,
   "metadata": {
    "id": "g_ryu66JsX5Z"
   },
   "outputs": [],
   "source": [
    "# Verifying the results.\n",
    "from tensorflow.keras.models import model_from_json\n",
    "model = model_from_json(model_82)\n",
    "model.load_weights('./weights_82_81(82).h5')\n",
    "model.compile(loss='binary_crossentropy',optimizer=Adam(lr=1e-4),metrics=['accuracy'])\n",
    "print(model.summary())\n",
    "model.evaluate(x_test, y_test, batch_size=64, verbose=2)\n",
    "\n"
   ]
  },
  {
   "cell_type": "code",
   "execution_count": null,
   "metadata": {
    "colab": {
     "base_uri": "https://localhost:8080/",
     "height": 240
    },
    "id": "e59A4JkVpiAL",
    "outputId": "bb7db7e1-babe-4280-a9c1-d99658dc2407"
   },
   "outputs": [
    {
     "ename": "FileNotFoundError",
     "evalue": "ignored",
     "output_type": "error",
     "traceback": [
      "\u001b[0;31m---------------------------------------------------------------------------\u001b[0m",
      "\u001b[0;31mFileNotFoundError\u001b[0m                         Traceback (most recent call last)",
      "\u001b[0;32m<ipython-input-55-f6c09e95b002>\u001b[0m in \u001b[0;36m<module>\u001b[0;34m()\u001b[0m\n\u001b[1;32m      4\u001b[0m \u001b[0;34m\u001b[0m\u001b[0m\n\u001b[1;32m      5\u001b[0m \u001b[0;34m\u001b[0m\u001b[0m\n\u001b[0;32m----> 6\u001b[0;31m \u001b[0mfile\u001b[0m \u001b[0;34m=\u001b[0m \u001b[0mopen\u001b[0m\u001b[0;34m(\u001b[0m\u001b[0;34m'../input/glove6b200d/glove.6B.200d.txt'\u001b[0m\u001b[0;34m,\u001b[0m\u001b[0mencoding\u001b[0m\u001b[0;34m=\u001b[0m\u001b[0;34m'utf-8'\u001b[0m\u001b[0;34m)\u001b[0m\u001b[0;34m\u001b[0m\u001b[0;34m\u001b[0m\u001b[0m\n\u001b[0m\u001b[1;32m      7\u001b[0m \u001b[0;34m\u001b[0m\u001b[0m\n\u001b[1;32m      8\u001b[0m \u001b[0;32mfor\u001b[0m \u001b[0mline\u001b[0m \u001b[0;32min\u001b[0m \u001b[0mfile\u001b[0m\u001b[0;34m:\u001b[0m\u001b[0;34m\u001b[0m\u001b[0;34m\u001b[0m\u001b[0m\n",
      "\u001b[0;31mFileNotFoundError\u001b[0m: [Errno 2] No such file or directory: '../input/glove6b200d/glove.6B.200d.txt'"
     ]
    }
   ],
   "source": [
    "# LSTM - glove_vectors\n",
    "\n",
    "glove_vectors = dict()\n",
    "\n",
    "# Now, we will convert the words in glove vectors into key value pairs. We have used glove representation of 200D. \n",
    "\n",
    "\n",
    "file = open('../input/glove6b200d/glove.6B.200d.txt',encoding='utf-8')\n",
    "\n",
    "for line in file:\n",
    "    values = line.split()  # contains list of keys and their vectors\n",
    "    word = values[0] # contains words\n",
    "    vectors = np.asarray(values[1:]) # storing vectors\n",
    "    glove_vectors[word] = vectors #storing the vector representation of the respective word in the dictionary\n",
    "file.close()"
   ]
  },
  {
   "cell_type": "code",
   "execution_count": null,
   "metadata": {
    "colab": {
     "base_uri": "https://localhost:8080/",
     "height": 165,
     "referenced_widgets": [
      "c1d7f4a4c6cd4bf4a203039afe12004c",
      "fa003a770ec74074bbb720cbf773df81",
      "147c0a6781d84bea8c1cb1c54781a2bb",
      "748a799962e243f5afd7aed877b02b7e",
      "eb3a339bc5424305b1ba6a8b5a739302",
      "1dbb2072f50e4b7993bade0c799f5a83",
      "27c1dd3678c44d358de483c209326f64",
      "cdecac780fcc47fdac2539a152be9097",
      "7a58bf73867f4f6fad70c1ab6a529d30",
      "9e70d4f0b5fb479da32d88a9a44727c5",
      "1da80a5273694220a0d0fe9a1f2a7f69",
      "d2238019acfe47259d6f751a93e9b3e8",
      "f4cab8d72ffb496d982c5d17f9524b23",
      "f38c651e2cb84e0090ebf25b635ddc32",
      "73a6ff7c06074c4dbc4b071b1b22f94e",
      "57c1b421e53f42d49573acd11bf0290e",
      "94017cd741054567ad56ee79a9bfa5df",
      "87ee0963ee8844c2a3e6d0640958c07d",
      "4ce81132d5784fd1a35278e9df737377",
      "a552bafcf56846d8893ecf43f82f5398",
      "313ee9c936f1493896a49028153c3e9d",
      "18c3fb55b1d74826ae6c885f08ba8cee",
      "547f52b7d7e94d76829090d9d418d9fe",
      "80a8ef19891f4fce8cf1ddfb4de8c8cc"
     ]
    },
    "id": "VwKYB_XwFQVE",
    "outputId": "325f8dcf-7e29-442b-d217-de86a0dc3190"
   },
   "outputs": [
    {
     "data": {
      "application/vnd.jupyter.widget-view+json": {
       "model_id": "c1d7f4a4c6cd4bf4a203039afe12004c",
       "version_major": 2,
       "version_minor": 0
      },
      "text/plain": [
       "HBox(children=(FloatProgress(value=0.0, description='Downloading', max=231508.0, style=ProgressStyle(descripti…"
      ]
     },
     "metadata": {
      "tags": []
     },
     "output_type": "display_data"
    },
    {
     "name": "stdout",
     "output_type": "stream",
     "text": [
      "\n"
     ]
    },
    {
     "data": {
      "application/vnd.jupyter.widget-view+json": {
       "model_id": "7a58bf73867f4f6fad70c1ab6a529d30",
       "version_major": 2,
       "version_minor": 0
      },
      "text/plain": [
       "HBox(children=(FloatProgress(value=0.0, description='Downloading', max=28.0, style=ProgressStyle(description_w…"
      ]
     },
     "metadata": {
      "tags": []
     },
     "output_type": "display_data"
    },
    {
     "name": "stdout",
     "output_type": "stream",
     "text": [
      "\n"
     ]
    },
    {
     "data": {
      "application/vnd.jupyter.widget-view+json": {
       "model_id": "94017cd741054567ad56ee79a9bfa5df",
       "version_major": 2,
       "version_minor": 0
      },
      "text/plain": [
       "HBox(children=(FloatProgress(value=0.0, description='Downloading', max=466062.0, style=ProgressStyle(descripti…"
      ]
     },
     "metadata": {
      "tags": []
     },
     "output_type": "display_data"
    },
    {
     "name": "stdout",
     "output_type": "stream",
     "text": [
      "\n"
     ]
    }
   ],
   "source": [
    "# BERT (DL)\n",
    "\n",
    "tokenizer = BertTokenizer.from_pretrained('bert-base-uncased', do_lower_case=True)"
   ]
  },
  {
   "cell_type": "code",
   "execution_count": null,
   "metadata": {
    "id": "E4udBQFKFQVE"
   },
   "outputs": [],
   "source": [
    "def Encode_TextWithAttention(sentence,tokenizer,maxlen,padding_type='max_length',attention_mask_flag=True):\n",
    "    encoded_dict = tokenizer.encode_plus(sentence, add_special_tokens=True, max_length=maxlen, truncation=True, padding=padding_type, return_attention_mask=attention_mask_flag)\n",
    "    return encoded_dict['input_ids'],encoded_dict['attention_mask']\n",
    "\n",
    "def Encode_TextWithoutAttention(sentence,tokenizer,maxlen,padding_type='max_length',attention_mask_flag=False):\n",
    "    encoded_dict = tokenizer.encode_plus(sentence, add_special_tokens=True, max_length=maxlen, truncation=True, padding=padding_type, return_attention_mask=attention_mask_flag)\n",
    "    return encoded_dict['input_ids']\n",
    "\n",
    "def get_TokenizedTextWithAttentionMask(sentenceList, tokenizer):\n",
    "    token_ids_list,attention_mask_list = [],[]\n",
    "    for sentence in sentenceList:\n",
    "        token_ids,attention_mask = Encode_TextWithAttention(sentence,tokenizer,MAX_LEN)\n",
    "        token_ids_list.append(token_ids)\n",
    "        attention_mask_list.append(attention_mask)\n",
    "    return token_ids_list,attention_mask_list\n",
    "\n",
    "def get_TokenizedText(sentenceList, tokenizer):\n",
    "    token_ids_list = []\n",
    "    for sentence in sentenceList:\n",
    "        token_ids = Encode_TextWithoutAttention(sentence,tokenizer,MAX_LEN)\n",
    "        token_ids_list.append(token_ids)\n",
    "    return token_ids_list"
   ]
  },
  {
   "cell_type": "code",
   "execution_count": null,
   "metadata": {
    "id": "MpRH6qLNFQVF"
   },
   "outputs": [],
   "source": [
    "train_token_ids,train_attention_masks = torch.tensor(get_TokenizedTextWithAttentionMask(train_sentences,tokenizer))\n",
    "val_token_ids,val_attention_masks = torch.tensor(get_TokenizedTextWithAttentionMask(val_sentences,tokenizer))\n",
    "test_token_ids,test_attention_masks = torch.tensor(get_TokenizedTextWithAttentionMask(test_sentences,tokenizer))\n",
    "\n",
    "train_labels = torch.tensor(train_labels)\n",
    "val_labels = torch.tensor(val_labels)"
   ]
  },
  {
   "cell_type": "code",
   "execution_count": null,
   "metadata": {
    "id": "VU-w5n3WFQVF"
   },
   "outputs": [],
   "source": [
    "batch_size = 32\n",
    "\n",
    "train_data = TensorDataset(train_token_ids, train_attention_masks, train_labels)\n",
    "train_sampler = RandomSampler(train_data)\n",
    "train_dataloader = DataLoader(train_data, sampler=train_sampler, batch_size=batch_size)\n",
    "\n",
    "validation_data = TensorDataset(val_token_ids, val_attention_masks, val_labels)\n",
    "validation_sampler = SequentialSampler(validation_data)\n",
    "validation_dataloader = DataLoader(validation_data, sampler=validation_sampler, batch_size=batch_size)\n",
    "\n",
    "test_data = TensorDataset(test_token_ids, test_attention_masks)\n",
    "test_sampler = SequentialSampler(test_data)\n",
    "test_dataloader = DataLoader(test_data, sampler=test_sampler, batch_size=batch_size)\n"
   ]
  },
  {
   "cell_type": "code",
   "execution_count": null,
   "metadata": {
    "colab": {
     "base_uri": "https://localhost:8080/",
     "height": 223,
     "referenced_widgets": [
      "602d3cbd380a4caa9bb2eb755f125e4a",
      "04a6e875ef0a4fb38983ded0872055b3",
      "54f17c543bb74f67a38bfe9a8411956e",
      "a5a9d1fc09b34bbeabe3df19369d39cb",
      "d1f89d973f8246caa5c84264a937e461",
      "a659be64d2274cbd9868219158e5d0b4",
      "568b2490f3904f03b22a4a7e01ae7b76",
      "491ff63f3c1146cb9d34874851edd284",
      "d84b6aae4c26476c971af93233d84c17",
      "92b40536375b4b15bb327349b043af35",
      "797b4d8284ae41eb8e5679520801fb17",
      "acdd5a0c5a314526a637866aef944f8c",
      "293f8883f9c243bda1ad82141e8683d7",
      "890979e6c8ba4bb8a44cdc50ab790934",
      "9697079af77a4223b0fa6d5f3175deed",
      "1734ca9c9e9d4d7a8773ceec4267ab50"
     ]
    },
    "id": "c9NxQFrEFQVG",
    "outputId": "e37d99d7-ecfa-4278-af60-8aab6c5372dc"
   },
   "outputs": [
    {
     "data": {
      "application/vnd.jupyter.widget-view+json": {
       "model_id": "602d3cbd380a4caa9bb2eb755f125e4a",
       "version_major": 2,
       "version_minor": 0
      },
      "text/plain": [
       "HBox(children=(FloatProgress(value=0.0, description='Downloading', max=570.0, style=ProgressStyle(description_…"
      ]
     },
     "metadata": {
      "tags": []
     },
     "output_type": "display_data"
    },
    {
     "name": "stdout",
     "output_type": "stream",
     "text": [
      "\n"
     ]
    },
    {
     "data": {
      "application/vnd.jupyter.widget-view+json": {
       "model_id": "d84b6aae4c26476c971af93233d84c17",
       "version_major": 2,
       "version_minor": 0
      },
      "text/plain": [
       "HBox(children=(FloatProgress(value=0.0, description='Downloading', max=440473133.0, style=ProgressStyle(descri…"
      ]
     },
     "metadata": {
      "tags": []
     },
     "output_type": "display_data"
    },
    {
     "name": "stdout",
     "output_type": "stream",
     "text": [
      "\n"
     ]
    },
    {
     "name": "stderr",
     "output_type": "stream",
     "text": [
      "Some weights of the model checkpoint at bert-base-uncased were not used when initializing BertForSequenceClassification: ['cls.predictions.transform.dense.weight', 'cls.predictions.transform.LayerNorm.bias', 'cls.predictions.decoder.weight', 'cls.seq_relationship.weight', 'cls.predictions.transform.dense.bias', 'cls.seq_relationship.bias', 'cls.predictions.transform.LayerNorm.weight', 'cls.predictions.bias']\n",
      "- This IS expected if you are initializing BertForSequenceClassification from the checkpoint of a model trained on another task or with another architecture (e.g. initializing a BertForSequenceClassification model from a BertForPreTraining model).\n",
      "- This IS NOT expected if you are initializing BertForSequenceClassification from the checkpoint of a model that you expect to be exactly identical (initializing a BertForSequenceClassification model from a BertForSequenceClassification model).\n",
      "Some weights of BertForSequenceClassification were not initialized from the model checkpoint at bert-base-uncased and are newly initialized: ['classifier.bias', 'classifier.weight']\n",
      "You should probably TRAIN this model on a down-stream task to be able to use it for predictions and inference.\n"
     ]
    }
   ],
   "source": [
    "model = BertForSequenceClassification.from_pretrained('bert-base-uncased', num_labels=2).cuda()\n",
    "\n"
   ]
  },
  {
   "cell_type": "code",
   "execution_count": null,
   "metadata": {
    "id": "a8_Eq6MtFQVH"
   },
   "outputs": [],
   "source": [
    "param_optimizer = list(model.named_parameters())\n",
    "no_decay = ['bias', 'gamma', 'beta']\n",
    "optimizer_grouped_parameters = [\n",
    "    {'params': [p for n, p in param_optimizer if not any(nd in n for nd in no_decay)],\n",
    "     'weight_decay_rate': 0.01},\n",
    "    {'params': [p for n, p in param_optimizer if any(nd in n for nd in no_decay)],\n",
    "     'weight_decay_rate': 0.0}\n",
    "]\n"
   ]
  },
  {
   "cell_type": "code",
   "execution_count": null,
   "metadata": {
    "id": "eGNFhSFUFQVH"
   },
   "outputs": [],
   "source": [
    "optimizer = AdamW(optimizer_grouped_parameters, lr=2e-5)"
   ]
  },
  {
   "cell_type": "code",
   "execution_count": null,
   "metadata": {
    "id": "u4ls2jvNFQVI"
   },
   "outputs": [],
   "source": [
    "def flat_accuracy(preds, labels):\n",
    "    pred_flat = np.argmax(preds, axis=1).flatten()\n",
    "    labels_flat = labels.flatten()\n",
    "    return np.sum(pred_flat == labels_flat) / len(labels_flat)"
   ]
  },
  {
   "cell_type": "code",
   "execution_count": null,
   "metadata": {
    "colab": {
     "base_uri": "https://localhost:8080/"
    },
    "id": "TjJJIaY0FQVI",
    "outputId": "c1d9d07e-e467-430e-8690-27f53d8ae0ac"
   },
   "outputs": [
    {
     "name": "stderr",
     "output_type": "stream",
     "text": [
      "\n",
      "Epoch:   0%|          | 0/15 [00:00<?, ?it/s]\u001b[A"
     ]
    },
    {
     "name": "stdout",
     "output_type": "stream",
     "text": [
      "Train loss: 0.08128099762301762\n"
     ]
    },
    {
     "name": "stderr",
     "output_type": "stream",
     "text": [
      "\n",
      "Epoch:   7%|▋         | 1/15 [02:42<37:51, 162.24s/it]\u001b[A"
     ]
    },
    {
     "name": "stdout",
     "output_type": "stream",
     "text": [
      "Validation Accuracy: 0.9636194029850746\n",
      "Train loss: 0.044311681506339816\n"
     ]
    },
    {
     "name": "stderr",
     "output_type": "stream",
     "text": [
      "\n",
      "Epoch:  13%|█▎        | 2/15 [05:23<35:04, 161.91s/it]\u001b[A"
     ]
    },
    {
     "name": "stdout",
     "output_type": "stream",
     "text": [
      "Validation Accuracy: 0.9626865671641791\n",
      "Train loss: 0.024134812596837866\n"
     ]
    },
    {
     "name": "stderr",
     "output_type": "stream",
     "text": [
      "\n",
      "Epoch:  20%|██        | 3/15 [08:04<32:21, 161.77s/it]\u001b[A"
     ]
    },
    {
     "name": "stdout",
     "output_type": "stream",
     "text": [
      "Validation Accuracy: 0.9692164179104478\n",
      "Train loss: 0.012043957318473533\n"
     ]
    },
    {
     "name": "stderr",
     "output_type": "stream",
     "text": [
      "\n",
      "Epoch:  27%|██▋       | 4/15 [10:46<29:40, 161.83s/it]\u001b[A"
     ]
    },
    {
     "name": "stdout",
     "output_type": "stream",
     "text": [
      "Validation Accuracy: 0.9626865671641791\n",
      "Train loss: 0.014723373334901176\n"
     ]
    },
    {
     "name": "stderr",
     "output_type": "stream",
     "text": [
      "\n",
      "Epoch:  33%|███▎      | 5/15 [13:28<26:57, 161.80s/it]\u001b[A"
     ]
    },
    {
     "name": "stdout",
     "output_type": "stream",
     "text": [
      "Validation Accuracy: 0.9626865671641791\n",
      "Train loss: 0.017137485398477714\n"
     ]
    },
    {
     "name": "stderr",
     "output_type": "stream",
     "text": [
      "\n",
      "Epoch:  40%|████      | 6/15 [16:10<24:16, 161.79s/it]\u001b[A"
     ]
    },
    {
     "name": "stdout",
     "output_type": "stream",
     "text": [
      "Validation Accuracy: 0.96875\n",
      "Train loss: 0.011814287265522905\n"
     ]
    },
    {
     "name": "stderr",
     "output_type": "stream",
     "text": [
      "\n",
      "Epoch:  47%|████▋     | 7/15 [18:52<21:34, 161.81s/it]\u001b[A"
     ]
    },
    {
     "name": "stdout",
     "output_type": "stream",
     "text": [
      "Validation Accuracy: 0.9673507462686567\n",
      "Train loss: 0.003054098201080443\n"
     ]
    },
    {
     "name": "stderr",
     "output_type": "stream",
     "text": [
      "\n",
      "Epoch:  53%|█████▎    | 8/15 [21:33<18:52, 161.72s/it]\u001b[A"
     ]
    },
    {
     "name": "stdout",
     "output_type": "stream",
     "text": [
      "Validation Accuracy: 0.96875\n",
      "Train loss: 0.004236682641406229\n"
     ]
    },
    {
     "name": "stderr",
     "output_type": "stream",
     "text": [
      "\n",
      "Epoch:  60%|██████    | 9/15 [24:14<16:09, 161.61s/it]\u001b[A"
     ]
    },
    {
     "name": "stdout",
     "output_type": "stream",
     "text": [
      "Validation Accuracy: 0.9696828358208955\n",
      "Train loss: 0.002018785882719204\n"
     ]
    },
    {
     "name": "stderr",
     "output_type": "stream",
     "text": [
      "\n",
      "Epoch:  67%|██████▋   | 10/15 [26:56<13:27, 161.57s/it]\u001b[A"
     ]
    },
    {
     "name": "stdout",
     "output_type": "stream",
     "text": [
      "Validation Accuracy: 0.9734141791044776\n",
      "Train loss: 0.0016913057729313428\n"
     ]
    },
    {
     "name": "stderr",
     "output_type": "stream",
     "text": [
      "\n",
      "Epoch:  73%|███████▎  | 11/15 [29:37<10:46, 161.54s/it]\u001b[A"
     ]
    },
    {
     "name": "stdout",
     "output_type": "stream",
     "text": [
      "Validation Accuracy: 0.9692164179104478\n",
      "Train loss: 0.0012563640432460095\n"
     ]
    },
    {
     "name": "stderr",
     "output_type": "stream",
     "text": [
      "\n",
      "Epoch:  80%|████████  | 12/15 [32:19<08:04, 161.48s/it]\u001b[A"
     ]
    },
    {
     "name": "stdout",
     "output_type": "stream",
     "text": [
      "Validation Accuracy: 0.9696828358208955\n",
      "Train loss: 0.0006422593170503011\n"
     ]
    },
    {
     "name": "stderr",
     "output_type": "stream",
     "text": [
      "\n",
      "Epoch:  87%|████████▋ | 13/15 [35:00<05:22, 161.43s/it]\u001b[A"
     ]
    },
    {
     "name": "stdout",
     "output_type": "stream",
     "text": [
      "Validation Accuracy: 0.9692164179104478\n",
      "Train loss: 0.00012463681539983965\n"
     ]
    },
    {
     "name": "stderr",
     "output_type": "stream",
     "text": [
      "\n",
      "Epoch:  93%|█████████▎| 14/15 [37:42<02:41, 161.46s/it]\u001b[A"
     ]
    },
    {
     "name": "stdout",
     "output_type": "stream",
     "text": [
      "Validation Accuracy: 0.9701492537313433\n",
      "Train loss: 9.283943106324773e-05\n"
     ]
    },
    {
     "name": "stderr",
     "output_type": "stream",
     "text": [
      "\n",
      "Epoch: 100%|██████████| 15/15 [40:23<00:00, 161.59s/it]"
     ]
    },
    {
     "name": "stdout",
     "output_type": "stream",
     "text": [
      "Validation Accuracy: 0.972481343283582\n"
     ]
    },
    {
     "name": "stderr",
     "output_type": "stream",
     "text": [
      "\n"
     ]
    }
   ],
   "source": [
    "train_loss_set = []\n",
    "best_val_accuracy = 0.90\n",
    "directory_path = ''\n",
    "epochs = 15\n",
    "\n",
    "for _ in trange(epochs, desc=\"Epoch\"):\n",
    "    model.train()\n",
    "    tr_loss = 0\n",
    "    nb_tr_examples, nb_tr_steps = 0, 0\n",
    "  \n",
    "    for step, batch in enumerate(train_dataloader):\n",
    "        batch = tuple(t.to(device) for t in batch)\n",
    "        b_input_ids, b_input_mask, b_labels = batch\n",
    "        optimizer.zero_grad()\n",
    "        outputs = model(b_input_ids, token_type_ids=None, attention_mask=b_input_mask, labels=b_labels)\n",
    "        loss = outputs[0]\n",
    "        logits = outputs[1]\n",
    "        train_loss_set.append(loss.item())    \n",
    "        loss.backward()\n",
    "        optimizer.step()\n",
    "\n",
    "        tr_loss += loss.item()\n",
    "        nb_tr_examples += b_input_ids.size(0)\n",
    "        nb_tr_steps += 1\n",
    "\n",
    "    print(\"Train loss: {}\".format(tr_loss/nb_tr_steps))\n",
    "\n",
    "    model.eval()\n",
    "\n",
    "    eval_loss, eval_accuracy = 0, 0\n",
    "    nb_eval_steps, nb_eval_examples = 0, 0\n",
    "\n",
    "    for batch in validation_dataloader:\n",
    "        batch = tuple(t.to(device) for t in batch)\n",
    "        b_input_ids, b_input_mask, b_labels = batch\n",
    "        with torch.no_grad():\n",
    "          output = model(b_input_ids, token_type_ids=None, attention_mask=b_input_mask)\n",
    "          logits = output[0]\n",
    "\n",
    "        logits = logits.detach().cpu().numpy()\n",
    "        label_ids = b_labels.to('cpu').numpy()\n",
    "\n",
    "        tmp_eval_accuracy = flat_accuracy(logits, label_ids)\n",
    "\n",
    "        eval_accuracy += tmp_eval_accuracy\n",
    "        nb_eval_steps += 1\n",
    "\n",
    "    print(\"Validation Accuracy: {}\".format(eval_accuracy/nb_eval_steps))\n",
    "    Validation_Accuracy = (eval_accuracy/nb_eval_steps)\n",
    " #   if(Validation_Accuracy >= best_val_accuracy):\n",
    " #       torch.save(model.state_dict(), directory_path+'models/BERT_base_uncased_best_model.ckpt')\n",
    " #       best_val_accuracy = Validation_Accuracy\n",
    " #       print('Model Saved')\n",
    "\n",
    "\n"
   ]
  },
  {
   "cell_type": "code",
   "execution_count": null,
   "metadata": {
    "colab": {
     "base_uri": "https://localhost:8080/",
     "height": 233
    },
    "id": "yt6pw93dsboQ",
    "outputId": "43848ff9-fdad-4dce-a9ea-a53edfe86689"
   },
   "outputs": [
    {
     "data": {
      "text/html": [
       "<style  type=\"text/css\" >\n",
       "#T_4d636302_b966_11eb_9429_0242ac1c0002row0_col1{\n",
       "            background-color:  #08306b;\n",
       "            color:  #f1f1f1;\n",
       "        }#T_4d636302_b966_11eb_9429_0242ac1c0002row1_col1{\n",
       "            background-color:  #74b3d8;\n",
       "            color:  #000000;\n",
       "        }#T_4d636302_b966_11eb_9429_0242ac1c0002row2_col1{\n",
       "            background-color:  #77b5d9;\n",
       "            color:  #000000;\n",
       "        }#T_4d636302_b966_11eb_9429_0242ac1c0002row3_col1{\n",
       "            background-color:  #7cb7da;\n",
       "            color:  #000000;\n",
       "        }#T_4d636302_b966_11eb_9429_0242ac1c0002row4_col1{\n",
       "            background-color:  #92c4de;\n",
       "            color:  #000000;\n",
       "        }#T_4d636302_b966_11eb_9429_0242ac1c0002row5_col1,#T_4d636302_b966_11eb_9429_0242ac1c0002row6_col1{\n",
       "            background-color:  #cddff1;\n",
       "            color:  #000000;\n",
       "        }#T_4d636302_b966_11eb_9429_0242ac1c0002row7_col1{\n",
       "            background-color:  #d7e6f5;\n",
       "            color:  #000000;\n",
       "        }#T_4d636302_b966_11eb_9429_0242ac1c0002row8_col1{\n",
       "            background-color:  #f7fbff;\n",
       "            color:  #000000;\n",
       "        }</style><table id=\"T_4d636302_b966_11eb_9429_0242ac1c0002\" ><thead>    <tr>        <th class=\"blank level0\" ></th>        <th class=\"col_heading level0 col0\" >Models</th>        <th class=\"col_heading level0 col1\" >Accuracy Score</th>    </tr></thead><tbody>\n",
       "                <tr>\n",
       "                        <th id=\"T_4d636302_b966_11eb_9429_0242ac1c0002level0_row0\" class=\"row_heading level0 row0\" >8</th>\n",
       "                        <td id=\"T_4d636302_b966_11eb_9429_0242ac1c0002row0_col0\" class=\"data row0 col0\" >BERT</td>\n",
       "                        <td id=\"T_4d636302_b966_11eb_9429_0242ac1c0002row0_col1\" class=\"data row0 col1\" >0.972481</td>\n",
       "            </tr>\n",
       "            <tr>\n",
       "                        <th id=\"T_4d636302_b966_11eb_9429_0242ac1c0002level0_row1\" class=\"row_heading level0 row1\" >5</th>\n",
       "                        <td id=\"T_4d636302_b966_11eb_9429_0242ac1c0002row1_col0\" class=\"data row1 col0\" >CatBoost</td>\n",
       "                        <td id=\"T_4d636302_b966_11eb_9429_0242ac1c0002row1_col1\" class=\"data row1 col1\" >0.786604</td>\n",
       "            </tr>\n",
       "            <tr>\n",
       "                        <th id=\"T_4d636302_b966_11eb_9429_0242ac1c0002level0_row2\" class=\"row_heading level0 row2\" >4</th>\n",
       "                        <td id=\"T_4d636302_b966_11eb_9429_0242ac1c0002row2_col0\" class=\"data row2 col0\" >XGBoost</td>\n",
       "                        <td id=\"T_4d636302_b966_11eb_9429_0242ac1c0002row2_col1\" class=\"data row2 col1\" >0.783489</td>\n",
       "            </tr>\n",
       "            <tr>\n",
       "                        <th id=\"T_4d636302_b966_11eb_9429_0242ac1c0002level0_row3\" class=\"row_heading level0 row3\" >3</th>\n",
       "                        <td id=\"T_4d636302_b966_11eb_9429_0242ac1c0002row3_col0\" class=\"data row3 col0\" >Random Forest</td>\n",
       "                        <td id=\"T_4d636302_b966_11eb_9429_0242ac1c0002row3_col1\" class=\"data row3 col1\" >0.778816</td>\n",
       "            </tr>\n",
       "            <tr>\n",
       "                        <th id=\"T_4d636302_b966_11eb_9429_0242ac1c0002level0_row4\" class=\"row_heading level0 row4\" >2</th>\n",
       "                        <td id=\"T_4d636302_b966_11eb_9429_0242ac1c0002row4_col0\" class=\"data row4 col0\" >Decision Trees</td>\n",
       "                        <td id=\"T_4d636302_b966_11eb_9429_0242ac1c0002row4_col1\" class=\"data row4 col1\" >0.760125</td>\n",
       "            </tr>\n",
       "            <tr>\n",
       "                        <th id=\"T_4d636302_b966_11eb_9429_0242ac1c0002level0_row5\" class=\"row_heading level0 row5\" >1</th>\n",
       "                        <td id=\"T_4d636302_b966_11eb_9429_0242ac1c0002row5_col0\" class=\"data row5 col0\" >Naive Bayes</td>\n",
       "                        <td id=\"T_4d636302_b966_11eb_9429_0242ac1c0002row5_col1\" class=\"data row5 col1\" >0.693146</td>\n",
       "            </tr>\n",
       "            <tr>\n",
       "                        <th id=\"T_4d636302_b966_11eb_9429_0242ac1c0002level0_row6\" class=\"row_heading level0 row6\" >7</th>\n",
       "                        <td id=\"T_4d636302_b966_11eb_9429_0242ac1c0002row6_col0\" class=\"data row6 col0\" >Voting Ensemble(LR+NB+XGB)</td>\n",
       "                        <td id=\"T_4d636302_b966_11eb_9429_0242ac1c0002row6_col1\" class=\"data row6 col1\" >0.693146</td>\n",
       "            </tr>\n",
       "            <tr>\n",
       "                        <th id=\"T_4d636302_b966_11eb_9429_0242ac1c0002level0_row7\" class=\"row_heading level0 row7\" >0</th>\n",
       "                        <td id=\"T_4d636302_b966_11eb_9429_0242ac1c0002row7_col0\" class=\"data row7 col0\" >Logistic Regression</td>\n",
       "                        <td id=\"T_4d636302_b966_11eb_9429_0242ac1c0002row7_col1\" class=\"data row7 col1\" >0.672897</td>\n",
       "            </tr>\n",
       "            <tr>\n",
       "                        <th id=\"T_4d636302_b966_11eb_9429_0242ac1c0002level0_row8\" class=\"row_heading level0 row8\" >6</th>\n",
       "                        <td id=\"T_4d636302_b966_11eb_9429_0242ac1c0002row8_col0\" class=\"data row8 col0\" >Passive Aggressor</td>\n",
       "                        <td id=\"T_4d636302_b966_11eb_9429_0242ac1c0002row8_col1\" class=\"data row8 col1\" >0.615265</td>\n",
       "            </tr>\n",
       "    </tbody></table>"
      ],
      "text/plain": [
       "<pandas.io.formats.style.Styler at 0x7fa1d19cdcd0>"
      ]
     },
     "execution_count": 82,
     "metadata": {
      "tags": []
     },
     "output_type": "execute_result"
    }
   ],
   "source": [
    "# Accuracy Summary\n",
    "\n",
    "acc_1 = accuracy_score(y_test, pred_1)\n",
    "acc_2 = accuracy_score(y_test, pred_2)\n",
    "acc_3 = accuracy_score(y_test, pred_3)\n",
    "acc_4 = accuracy_score(y_test, pred_4)\n",
    "acc_5 = accuracy_score(y_test, pred_5)\n",
    "acc_6 = accuracy_score(y_test, pred_6)\n",
    "acc_7 = accuracy_score(y_test, pred_7)\n",
    "acc_vc = accuracy_score(y_test, pred_vc)\n",
    "# LSTM; acc_9 = accuracy_score(y_test, pred_9)\n",
    "results = pd.DataFrame([[\"Logistic Regression\",acc_1],[\"Naive Bayes\",acc_2],[\"Decision Trees\",acc_3],\n",
    "                       [\"Random Forest\",acc_4],[\"XGBoost\",acc_5],[\"CatBoost\",acc_6],\n",
    "                       [\"Passive Aggressor\",acc_7],[\"Voting Ensemble(LR+NB+XGB)\",acc_vc], [\"BERT\", Validation_Accuracy]],columns = [\"Models\",\"Accuracy Score\"]).sort_values(by='Accuracy Score',ascending=False)\n",
    "results.style.background_gradient(cmap='Blues')\n"
   ]
  },
  {
   "cell_type": "code",
   "execution_count": null,
   "metadata": {
    "id": "WReD_yHdFQVK"
   },
   "outputs": [],
   "source": []
  }
 ],
 "metadata": {
  "accelerator": "GPU",
  "colab": {
   "collapsed_sections": [],
   "name": "covid19-fake-posts-detection.ipynb",
   "provenance": []
  },
  "kernelspec": {
   "display_name": "Python 3",
   "language": "python",
   "name": "python3"
  },
  "language_info": {
   "codemirror_mode": {
    "name": "ipython",
    "version": 3
   },
   "file_extension": ".py",
   "mimetype": "text/x-python",
   "name": "python",
   "nbconvert_exporter": "python",
   "pygments_lexer": "ipython3",
   "version": "3.8.3"
  },
  "widgets": {
   "application/vnd.jupyter.widget-state+json": {
    "04a6e875ef0a4fb38983ded0872055b3": {
     "model_module": "@jupyter-widgets/base",
     "model_name": "LayoutModel",
     "state": {
      "_model_module": "@jupyter-widgets/base",
      "_model_module_version": "1.2.0",
      "_model_name": "LayoutModel",
      "_view_count": null,
      "_view_module": "@jupyter-widgets/base",
      "_view_module_version": "1.2.0",
      "_view_name": "LayoutView",
      "align_content": null,
      "align_items": null,
      "align_self": null,
      "border": null,
      "bottom": null,
      "display": null,
      "flex": null,
      "flex_flow": null,
      "grid_area": null,
      "grid_auto_columns": null,
      "grid_auto_flow": null,
      "grid_auto_rows": null,
      "grid_column": null,
      "grid_gap": null,
      "grid_row": null,
      "grid_template_areas": null,
      "grid_template_columns": null,
      "grid_template_rows": null,
      "height": null,
      "justify_content": null,
      "justify_items": null,
      "left": null,
      "margin": null,
      "max_height": null,
      "max_width": null,
      "min_height": null,
      "min_width": null,
      "object_fit": null,
      "object_position": null,
      "order": null,
      "overflow": null,
      "overflow_x": null,
      "overflow_y": null,
      "padding": null,
      "right": null,
      "top": null,
      "visibility": null,
      "width": null
     }
    },
    "147c0a6781d84bea8c1cb1c54781a2bb": {
     "model_module": "@jupyter-widgets/controls",
     "model_name": "FloatProgressModel",
     "state": {
      "_dom_classes": [],
      "_model_module": "@jupyter-widgets/controls",
      "_model_module_version": "1.5.0",
      "_model_name": "FloatProgressModel",
      "_view_count": null,
      "_view_module": "@jupyter-widgets/controls",
      "_view_module_version": "1.5.0",
      "_view_name": "ProgressView",
      "bar_style": "success",
      "description": "Downloading: 100%",
      "description_tooltip": null,
      "layout": "IPY_MODEL_1dbb2072f50e4b7993bade0c799f5a83",
      "max": 231508,
      "min": 0,
      "orientation": "horizontal",
      "style": "IPY_MODEL_eb3a339bc5424305b1ba6a8b5a739302",
      "value": 231508
     }
    },
    "1734ca9c9e9d4d7a8773ceec4267ab50": {
     "model_module": "@jupyter-widgets/base",
     "model_name": "LayoutModel",
     "state": {
      "_model_module": "@jupyter-widgets/base",
      "_model_module_version": "1.2.0",
      "_model_name": "LayoutModel",
      "_view_count": null,
      "_view_module": "@jupyter-widgets/base",
      "_view_module_version": "1.2.0",
      "_view_name": "LayoutView",
      "align_content": null,
      "align_items": null,
      "align_self": null,
      "border": null,
      "bottom": null,
      "display": null,
      "flex": null,
      "flex_flow": null,
      "grid_area": null,
      "grid_auto_columns": null,
      "grid_auto_flow": null,
      "grid_auto_rows": null,
      "grid_column": null,
      "grid_gap": null,
      "grid_row": null,
      "grid_template_areas": null,
      "grid_template_columns": null,
      "grid_template_rows": null,
      "height": null,
      "justify_content": null,
      "justify_items": null,
      "left": null,
      "margin": null,
      "max_height": null,
      "max_width": null,
      "min_height": null,
      "min_width": null,
      "object_fit": null,
      "object_position": null,
      "order": null,
      "overflow": null,
      "overflow_x": null,
      "overflow_y": null,
      "padding": null,
      "right": null,
      "top": null,
      "visibility": null,
      "width": null
     }
    },
    "18c3fb55b1d74826ae6c885f08ba8cee": {
     "model_module": "@jupyter-widgets/base",
     "model_name": "LayoutModel",
     "state": {
      "_model_module": "@jupyter-widgets/base",
      "_model_module_version": "1.2.0",
      "_model_name": "LayoutModel",
      "_view_count": null,
      "_view_module": "@jupyter-widgets/base",
      "_view_module_version": "1.2.0",
      "_view_name": "LayoutView",
      "align_content": null,
      "align_items": null,
      "align_self": null,
      "border": null,
      "bottom": null,
      "display": null,
      "flex": null,
      "flex_flow": null,
      "grid_area": null,
      "grid_auto_columns": null,
      "grid_auto_flow": null,
      "grid_auto_rows": null,
      "grid_column": null,
      "grid_gap": null,
      "grid_row": null,
      "grid_template_areas": null,
      "grid_template_columns": null,
      "grid_template_rows": null,
      "height": null,
      "justify_content": null,
      "justify_items": null,
      "left": null,
      "margin": null,
      "max_height": null,
      "max_width": null,
      "min_height": null,
      "min_width": null,
      "object_fit": null,
      "object_position": null,
      "order": null,
      "overflow": null,
      "overflow_x": null,
      "overflow_y": null,
      "padding": null,
      "right": null,
      "top": null,
      "visibility": null,
      "width": null
     }
    },
    "1da80a5273694220a0d0fe9a1f2a7f69": {
     "model_module": "@jupyter-widgets/controls",
     "model_name": "FloatProgressModel",
     "state": {
      "_dom_classes": [],
      "_model_module": "@jupyter-widgets/controls",
      "_model_module_version": "1.5.0",
      "_model_name": "FloatProgressModel",
      "_view_count": null,
      "_view_module": "@jupyter-widgets/controls",
      "_view_module_version": "1.5.0",
      "_view_name": "ProgressView",
      "bar_style": "success",
      "description": "Downloading: 100%",
      "description_tooltip": null,
      "layout": "IPY_MODEL_f38c651e2cb84e0090ebf25b635ddc32",
      "max": 28,
      "min": 0,
      "orientation": "horizontal",
      "style": "IPY_MODEL_f4cab8d72ffb496d982c5d17f9524b23",
      "value": 28
     }
    },
    "1dbb2072f50e4b7993bade0c799f5a83": {
     "model_module": "@jupyter-widgets/base",
     "model_name": "LayoutModel",
     "state": {
      "_model_module": "@jupyter-widgets/base",
      "_model_module_version": "1.2.0",
      "_model_name": "LayoutModel",
      "_view_count": null,
      "_view_module": "@jupyter-widgets/base",
      "_view_module_version": "1.2.0",
      "_view_name": "LayoutView",
      "align_content": null,
      "align_items": null,
      "align_self": null,
      "border": null,
      "bottom": null,
      "display": null,
      "flex": null,
      "flex_flow": null,
      "grid_area": null,
      "grid_auto_columns": null,
      "grid_auto_flow": null,
      "grid_auto_rows": null,
      "grid_column": null,
      "grid_gap": null,
      "grid_row": null,
      "grid_template_areas": null,
      "grid_template_columns": null,
      "grid_template_rows": null,
      "height": null,
      "justify_content": null,
      "justify_items": null,
      "left": null,
      "margin": null,
      "max_height": null,
      "max_width": null,
      "min_height": null,
      "min_width": null,
      "object_fit": null,
      "object_position": null,
      "order": null,
      "overflow": null,
      "overflow_x": null,
      "overflow_y": null,
      "padding": null,
      "right": null,
      "top": null,
      "visibility": null,
      "width": null
     }
    },
    "27c1dd3678c44d358de483c209326f64": {
     "model_module": "@jupyter-widgets/controls",
     "model_name": "DescriptionStyleModel",
     "state": {
      "_model_module": "@jupyter-widgets/controls",
      "_model_module_version": "1.5.0",
      "_model_name": "DescriptionStyleModel",
      "_view_count": null,
      "_view_module": "@jupyter-widgets/base",
      "_view_module_version": "1.2.0",
      "_view_name": "StyleView",
      "description_width": ""
     }
    },
    "293f8883f9c243bda1ad82141e8683d7": {
     "model_module": "@jupyter-widgets/controls",
     "model_name": "ProgressStyleModel",
     "state": {
      "_model_module": "@jupyter-widgets/controls",
      "_model_module_version": "1.5.0",
      "_model_name": "ProgressStyleModel",
      "_view_count": null,
      "_view_module": "@jupyter-widgets/base",
      "_view_module_version": "1.2.0",
      "_view_name": "StyleView",
      "bar_color": null,
      "description_width": "initial"
     }
    },
    "313ee9c936f1493896a49028153c3e9d": {
     "model_module": "@jupyter-widgets/controls",
     "model_name": "ProgressStyleModel",
     "state": {
      "_model_module": "@jupyter-widgets/controls",
      "_model_module_version": "1.5.0",
      "_model_name": "ProgressStyleModel",
      "_view_count": null,
      "_view_module": "@jupyter-widgets/base",
      "_view_module_version": "1.2.0",
      "_view_name": "StyleView",
      "bar_color": null,
      "description_width": "initial"
     }
    },
    "491ff63f3c1146cb9d34874851edd284": {
     "model_module": "@jupyter-widgets/base",
     "model_name": "LayoutModel",
     "state": {
      "_model_module": "@jupyter-widgets/base",
      "_model_module_version": "1.2.0",
      "_model_name": "LayoutModel",
      "_view_count": null,
      "_view_module": "@jupyter-widgets/base",
      "_view_module_version": "1.2.0",
      "_view_name": "LayoutView",
      "align_content": null,
      "align_items": null,
      "align_self": null,
      "border": null,
      "bottom": null,
      "display": null,
      "flex": null,
      "flex_flow": null,
      "grid_area": null,
      "grid_auto_columns": null,
      "grid_auto_flow": null,
      "grid_auto_rows": null,
      "grid_column": null,
      "grid_gap": null,
      "grid_row": null,
      "grid_template_areas": null,
      "grid_template_columns": null,
      "grid_template_rows": null,
      "height": null,
      "justify_content": null,
      "justify_items": null,
      "left": null,
      "margin": null,
      "max_height": null,
      "max_width": null,
      "min_height": null,
      "min_width": null,
      "object_fit": null,
      "object_position": null,
      "order": null,
      "overflow": null,
      "overflow_x": null,
      "overflow_y": null,
      "padding": null,
      "right": null,
      "top": null,
      "visibility": null,
      "width": null
     }
    },
    "4ce81132d5784fd1a35278e9df737377": {
     "model_module": "@jupyter-widgets/controls",
     "model_name": "FloatProgressModel",
     "state": {
      "_dom_classes": [],
      "_model_module": "@jupyter-widgets/controls",
      "_model_module_version": "1.5.0",
      "_model_name": "FloatProgressModel",
      "_view_count": null,
      "_view_module": "@jupyter-widgets/controls",
      "_view_module_version": "1.5.0",
      "_view_name": "ProgressView",
      "bar_style": "success",
      "description": "Downloading: 100%",
      "description_tooltip": null,
      "layout": "IPY_MODEL_18c3fb55b1d74826ae6c885f08ba8cee",
      "max": 466062,
      "min": 0,
      "orientation": "horizontal",
      "style": "IPY_MODEL_313ee9c936f1493896a49028153c3e9d",
      "value": 466062
     }
    },
    "547f52b7d7e94d76829090d9d418d9fe": {
     "model_module": "@jupyter-widgets/controls",
     "model_name": "DescriptionStyleModel",
     "state": {
      "_model_module": "@jupyter-widgets/controls",
      "_model_module_version": "1.5.0",
      "_model_name": "DescriptionStyleModel",
      "_view_count": null,
      "_view_module": "@jupyter-widgets/base",
      "_view_module_version": "1.2.0",
      "_view_name": "StyleView",
      "description_width": ""
     }
    },
    "54f17c543bb74f67a38bfe9a8411956e": {
     "model_module": "@jupyter-widgets/controls",
     "model_name": "FloatProgressModel",
     "state": {
      "_dom_classes": [],
      "_model_module": "@jupyter-widgets/controls",
      "_model_module_version": "1.5.0",
      "_model_name": "FloatProgressModel",
      "_view_count": null,
      "_view_module": "@jupyter-widgets/controls",
      "_view_module_version": "1.5.0",
      "_view_name": "ProgressView",
      "bar_style": "success",
      "description": "Downloading: 100%",
      "description_tooltip": null,
      "layout": "IPY_MODEL_a659be64d2274cbd9868219158e5d0b4",
      "max": 570,
      "min": 0,
      "orientation": "horizontal",
      "style": "IPY_MODEL_d1f89d973f8246caa5c84264a937e461",
      "value": 570
     }
    },
    "568b2490f3904f03b22a4a7e01ae7b76": {
     "model_module": "@jupyter-widgets/controls",
     "model_name": "DescriptionStyleModel",
     "state": {
      "_model_module": "@jupyter-widgets/controls",
      "_model_module_version": "1.5.0",
      "_model_name": "DescriptionStyleModel",
      "_view_count": null,
      "_view_module": "@jupyter-widgets/base",
      "_view_module_version": "1.2.0",
      "_view_name": "StyleView",
      "description_width": ""
     }
    },
    "57c1b421e53f42d49573acd11bf0290e": {
     "model_module": "@jupyter-widgets/base",
     "model_name": "LayoutModel",
     "state": {
      "_model_module": "@jupyter-widgets/base",
      "_model_module_version": "1.2.0",
      "_model_name": "LayoutModel",
      "_view_count": null,
      "_view_module": "@jupyter-widgets/base",
      "_view_module_version": "1.2.0",
      "_view_name": "LayoutView",
      "align_content": null,
      "align_items": null,
      "align_self": null,
      "border": null,
      "bottom": null,
      "display": null,
      "flex": null,
      "flex_flow": null,
      "grid_area": null,
      "grid_auto_columns": null,
      "grid_auto_flow": null,
      "grid_auto_rows": null,
      "grid_column": null,
      "grid_gap": null,
      "grid_row": null,
      "grid_template_areas": null,
      "grid_template_columns": null,
      "grid_template_rows": null,
      "height": null,
      "justify_content": null,
      "justify_items": null,
      "left": null,
      "margin": null,
      "max_height": null,
      "max_width": null,
      "min_height": null,
      "min_width": null,
      "object_fit": null,
      "object_position": null,
      "order": null,
      "overflow": null,
      "overflow_x": null,
      "overflow_y": null,
      "padding": null,
      "right": null,
      "top": null,
      "visibility": null,
      "width": null
     }
    },
    "602d3cbd380a4caa9bb2eb755f125e4a": {
     "model_module": "@jupyter-widgets/controls",
     "model_name": "HBoxModel",
     "state": {
      "_dom_classes": [],
      "_model_module": "@jupyter-widgets/controls",
      "_model_module_version": "1.5.0",
      "_model_name": "HBoxModel",
      "_view_count": null,
      "_view_module": "@jupyter-widgets/controls",
      "_view_module_version": "1.5.0",
      "_view_name": "HBoxView",
      "box_style": "",
      "children": [
       "IPY_MODEL_54f17c543bb74f67a38bfe9a8411956e",
       "IPY_MODEL_a5a9d1fc09b34bbeabe3df19369d39cb"
      ],
      "layout": "IPY_MODEL_04a6e875ef0a4fb38983ded0872055b3"
     }
    },
    "73a6ff7c06074c4dbc4b071b1b22f94e": {
     "model_module": "@jupyter-widgets/controls",
     "model_name": "DescriptionStyleModel",
     "state": {
      "_model_module": "@jupyter-widgets/controls",
      "_model_module_version": "1.5.0",
      "_model_name": "DescriptionStyleModel",
      "_view_count": null,
      "_view_module": "@jupyter-widgets/base",
      "_view_module_version": "1.2.0",
      "_view_name": "StyleView",
      "description_width": ""
     }
    },
    "748a799962e243f5afd7aed877b02b7e": {
     "model_module": "@jupyter-widgets/controls",
     "model_name": "HTMLModel",
     "state": {
      "_dom_classes": [],
      "_model_module": "@jupyter-widgets/controls",
      "_model_module_version": "1.5.0",
      "_model_name": "HTMLModel",
      "_view_count": null,
      "_view_module": "@jupyter-widgets/controls",
      "_view_module_version": "1.5.0",
      "_view_name": "HTMLView",
      "description": "",
      "description_tooltip": null,
      "layout": "IPY_MODEL_cdecac780fcc47fdac2539a152be9097",
      "placeholder": "​",
      "style": "IPY_MODEL_27c1dd3678c44d358de483c209326f64",
      "value": " 232k/232k [00:01&lt;00:00, 198kB/s]"
     }
    },
    "797b4d8284ae41eb8e5679520801fb17": {
     "model_module": "@jupyter-widgets/controls",
     "model_name": "FloatProgressModel",
     "state": {
      "_dom_classes": [],
      "_model_module": "@jupyter-widgets/controls",
      "_model_module_version": "1.5.0",
      "_model_name": "FloatProgressModel",
      "_view_count": null,
      "_view_module": "@jupyter-widgets/controls",
      "_view_module_version": "1.5.0",
      "_view_name": "ProgressView",
      "bar_style": "success",
      "description": "Downloading: 100%",
      "description_tooltip": null,
      "layout": "IPY_MODEL_890979e6c8ba4bb8a44cdc50ab790934",
      "max": 440473133,
      "min": 0,
      "orientation": "horizontal",
      "style": "IPY_MODEL_293f8883f9c243bda1ad82141e8683d7",
      "value": 440473133
     }
    },
    "7a58bf73867f4f6fad70c1ab6a529d30": {
     "model_module": "@jupyter-widgets/controls",
     "model_name": "HBoxModel",
     "state": {
      "_dom_classes": [],
      "_model_module": "@jupyter-widgets/controls",
      "_model_module_version": "1.5.0",
      "_model_name": "HBoxModel",
      "_view_count": null,
      "_view_module": "@jupyter-widgets/controls",
      "_view_module_version": "1.5.0",
      "_view_name": "HBoxView",
      "box_style": "",
      "children": [
       "IPY_MODEL_1da80a5273694220a0d0fe9a1f2a7f69",
       "IPY_MODEL_d2238019acfe47259d6f751a93e9b3e8"
      ],
      "layout": "IPY_MODEL_9e70d4f0b5fb479da32d88a9a44727c5"
     }
    },
    "80a8ef19891f4fce8cf1ddfb4de8c8cc": {
     "model_module": "@jupyter-widgets/base",
     "model_name": "LayoutModel",
     "state": {
      "_model_module": "@jupyter-widgets/base",
      "_model_module_version": "1.2.0",
      "_model_name": "LayoutModel",
      "_view_count": null,
      "_view_module": "@jupyter-widgets/base",
      "_view_module_version": "1.2.0",
      "_view_name": "LayoutView",
      "align_content": null,
      "align_items": null,
      "align_self": null,
      "border": null,
      "bottom": null,
      "display": null,
      "flex": null,
      "flex_flow": null,
      "grid_area": null,
      "grid_auto_columns": null,
      "grid_auto_flow": null,
      "grid_auto_rows": null,
      "grid_column": null,
      "grid_gap": null,
      "grid_row": null,
      "grid_template_areas": null,
      "grid_template_columns": null,
      "grid_template_rows": null,
      "height": null,
      "justify_content": null,
      "justify_items": null,
      "left": null,
      "margin": null,
      "max_height": null,
      "max_width": null,
      "min_height": null,
      "min_width": null,
      "object_fit": null,
      "object_position": null,
      "order": null,
      "overflow": null,
      "overflow_x": null,
      "overflow_y": null,
      "padding": null,
      "right": null,
      "top": null,
      "visibility": null,
      "width": null
     }
    },
    "87ee0963ee8844c2a3e6d0640958c07d": {
     "model_module": "@jupyter-widgets/base",
     "model_name": "LayoutModel",
     "state": {
      "_model_module": "@jupyter-widgets/base",
      "_model_module_version": "1.2.0",
      "_model_name": "LayoutModel",
      "_view_count": null,
      "_view_module": "@jupyter-widgets/base",
      "_view_module_version": "1.2.0",
      "_view_name": "LayoutView",
      "align_content": null,
      "align_items": null,
      "align_self": null,
      "border": null,
      "bottom": null,
      "display": null,
      "flex": null,
      "flex_flow": null,
      "grid_area": null,
      "grid_auto_columns": null,
      "grid_auto_flow": null,
      "grid_auto_rows": null,
      "grid_column": null,
      "grid_gap": null,
      "grid_row": null,
      "grid_template_areas": null,
      "grid_template_columns": null,
      "grid_template_rows": null,
      "height": null,
      "justify_content": null,
      "justify_items": null,
      "left": null,
      "margin": null,
      "max_height": null,
      "max_width": null,
      "min_height": null,
      "min_width": null,
      "object_fit": null,
      "object_position": null,
      "order": null,
      "overflow": null,
      "overflow_x": null,
      "overflow_y": null,
      "padding": null,
      "right": null,
      "top": null,
      "visibility": null,
      "width": null
     }
    },
    "890979e6c8ba4bb8a44cdc50ab790934": {
     "model_module": "@jupyter-widgets/base",
     "model_name": "LayoutModel",
     "state": {
      "_model_module": "@jupyter-widgets/base",
      "_model_module_version": "1.2.0",
      "_model_name": "LayoutModel",
      "_view_count": null,
      "_view_module": "@jupyter-widgets/base",
      "_view_module_version": "1.2.0",
      "_view_name": "LayoutView",
      "align_content": null,
      "align_items": null,
      "align_self": null,
      "border": null,
      "bottom": null,
      "display": null,
      "flex": null,
      "flex_flow": null,
      "grid_area": null,
      "grid_auto_columns": null,
      "grid_auto_flow": null,
      "grid_auto_rows": null,
      "grid_column": null,
      "grid_gap": null,
      "grid_row": null,
      "grid_template_areas": null,
      "grid_template_columns": null,
      "grid_template_rows": null,
      "height": null,
      "justify_content": null,
      "justify_items": null,
      "left": null,
      "margin": null,
      "max_height": null,
      "max_width": null,
      "min_height": null,
      "min_width": null,
      "object_fit": null,
      "object_position": null,
      "order": null,
      "overflow": null,
      "overflow_x": null,
      "overflow_y": null,
      "padding": null,
      "right": null,
      "top": null,
      "visibility": null,
      "width": null
     }
    },
    "92b40536375b4b15bb327349b043af35": {
     "model_module": "@jupyter-widgets/base",
     "model_name": "LayoutModel",
     "state": {
      "_model_module": "@jupyter-widgets/base",
      "_model_module_version": "1.2.0",
      "_model_name": "LayoutModel",
      "_view_count": null,
      "_view_module": "@jupyter-widgets/base",
      "_view_module_version": "1.2.0",
      "_view_name": "LayoutView",
      "align_content": null,
      "align_items": null,
      "align_self": null,
      "border": null,
      "bottom": null,
      "display": null,
      "flex": null,
      "flex_flow": null,
      "grid_area": null,
      "grid_auto_columns": null,
      "grid_auto_flow": null,
      "grid_auto_rows": null,
      "grid_column": null,
      "grid_gap": null,
      "grid_row": null,
      "grid_template_areas": null,
      "grid_template_columns": null,
      "grid_template_rows": null,
      "height": null,
      "justify_content": null,
      "justify_items": null,
      "left": null,
      "margin": null,
      "max_height": null,
      "max_width": null,
      "min_height": null,
      "min_width": null,
      "object_fit": null,
      "object_position": null,
      "order": null,
      "overflow": null,
      "overflow_x": null,
      "overflow_y": null,
      "padding": null,
      "right": null,
      "top": null,
      "visibility": null,
      "width": null
     }
    },
    "94017cd741054567ad56ee79a9bfa5df": {
     "model_module": "@jupyter-widgets/controls",
     "model_name": "HBoxModel",
     "state": {
      "_dom_classes": [],
      "_model_module": "@jupyter-widgets/controls",
      "_model_module_version": "1.5.0",
      "_model_name": "HBoxModel",
      "_view_count": null,
      "_view_module": "@jupyter-widgets/controls",
      "_view_module_version": "1.5.0",
      "_view_name": "HBoxView",
      "box_style": "",
      "children": [
       "IPY_MODEL_4ce81132d5784fd1a35278e9df737377",
       "IPY_MODEL_a552bafcf56846d8893ecf43f82f5398"
      ],
      "layout": "IPY_MODEL_87ee0963ee8844c2a3e6d0640958c07d"
     }
    },
    "9697079af77a4223b0fa6d5f3175deed": {
     "model_module": "@jupyter-widgets/controls",
     "model_name": "DescriptionStyleModel",
     "state": {
      "_model_module": "@jupyter-widgets/controls",
      "_model_module_version": "1.5.0",
      "_model_name": "DescriptionStyleModel",
      "_view_count": null,
      "_view_module": "@jupyter-widgets/base",
      "_view_module_version": "1.2.0",
      "_view_name": "StyleView",
      "description_width": ""
     }
    },
    "9e70d4f0b5fb479da32d88a9a44727c5": {
     "model_module": "@jupyter-widgets/base",
     "model_name": "LayoutModel",
     "state": {
      "_model_module": "@jupyter-widgets/base",
      "_model_module_version": "1.2.0",
      "_model_name": "LayoutModel",
      "_view_count": null,
      "_view_module": "@jupyter-widgets/base",
      "_view_module_version": "1.2.0",
      "_view_name": "LayoutView",
      "align_content": null,
      "align_items": null,
      "align_self": null,
      "border": null,
      "bottom": null,
      "display": null,
      "flex": null,
      "flex_flow": null,
      "grid_area": null,
      "grid_auto_columns": null,
      "grid_auto_flow": null,
      "grid_auto_rows": null,
      "grid_column": null,
      "grid_gap": null,
      "grid_row": null,
      "grid_template_areas": null,
      "grid_template_columns": null,
      "grid_template_rows": null,
      "height": null,
      "justify_content": null,
      "justify_items": null,
      "left": null,
      "margin": null,
      "max_height": null,
      "max_width": null,
      "min_height": null,
      "min_width": null,
      "object_fit": null,
      "object_position": null,
      "order": null,
      "overflow": null,
      "overflow_x": null,
      "overflow_y": null,
      "padding": null,
      "right": null,
      "top": null,
      "visibility": null,
      "width": null
     }
    },
    "a552bafcf56846d8893ecf43f82f5398": {
     "model_module": "@jupyter-widgets/controls",
     "model_name": "HTMLModel",
     "state": {
      "_dom_classes": [],
      "_model_module": "@jupyter-widgets/controls",
      "_model_module_version": "1.5.0",
      "_model_name": "HTMLModel",
      "_view_count": null,
      "_view_module": "@jupyter-widgets/controls",
      "_view_module_version": "1.5.0",
      "_view_name": "HTMLView",
      "description": "",
      "description_tooltip": null,
      "layout": "IPY_MODEL_80a8ef19891f4fce8cf1ddfb4de8c8cc",
      "placeholder": "​",
      "style": "IPY_MODEL_547f52b7d7e94d76829090d9d418d9fe",
      "value": " 466k/466k [00:00&lt;00:00, 1.27MB/s]"
     }
    },
    "a5a9d1fc09b34bbeabe3df19369d39cb": {
     "model_module": "@jupyter-widgets/controls",
     "model_name": "HTMLModel",
     "state": {
      "_dom_classes": [],
      "_model_module": "@jupyter-widgets/controls",
      "_model_module_version": "1.5.0",
      "_model_name": "HTMLModel",
      "_view_count": null,
      "_view_module": "@jupyter-widgets/controls",
      "_view_module_version": "1.5.0",
      "_view_name": "HTMLView",
      "description": "",
      "description_tooltip": null,
      "layout": "IPY_MODEL_491ff63f3c1146cb9d34874851edd284",
      "placeholder": "​",
      "style": "IPY_MODEL_568b2490f3904f03b22a4a7e01ae7b76",
      "value": " 570/570 [00:33&lt;00:00, 17.1B/s]"
     }
    },
    "a659be64d2274cbd9868219158e5d0b4": {
     "model_module": "@jupyter-widgets/base",
     "model_name": "LayoutModel",
     "state": {
      "_model_module": "@jupyter-widgets/base",
      "_model_module_version": "1.2.0",
      "_model_name": "LayoutModel",
      "_view_count": null,
      "_view_module": "@jupyter-widgets/base",
      "_view_module_version": "1.2.0",
      "_view_name": "LayoutView",
      "align_content": null,
      "align_items": null,
      "align_self": null,
      "border": null,
      "bottom": null,
      "display": null,
      "flex": null,
      "flex_flow": null,
      "grid_area": null,
      "grid_auto_columns": null,
      "grid_auto_flow": null,
      "grid_auto_rows": null,
      "grid_column": null,
      "grid_gap": null,
      "grid_row": null,
      "grid_template_areas": null,
      "grid_template_columns": null,
      "grid_template_rows": null,
      "height": null,
      "justify_content": null,
      "justify_items": null,
      "left": null,
      "margin": null,
      "max_height": null,
      "max_width": null,
      "min_height": null,
      "min_width": null,
      "object_fit": null,
      "object_position": null,
      "order": null,
      "overflow": null,
      "overflow_x": null,
      "overflow_y": null,
      "padding": null,
      "right": null,
      "top": null,
      "visibility": null,
      "width": null
     }
    },
    "acdd5a0c5a314526a637866aef944f8c": {
     "model_module": "@jupyter-widgets/controls",
     "model_name": "HTMLModel",
     "state": {
      "_dom_classes": [],
      "_model_module": "@jupyter-widgets/controls",
      "_model_module_version": "1.5.0",
      "_model_name": "HTMLModel",
      "_view_count": null,
      "_view_module": "@jupyter-widgets/controls",
      "_view_module_version": "1.5.0",
      "_view_name": "HTMLView",
      "description": "",
      "description_tooltip": null,
      "layout": "IPY_MODEL_1734ca9c9e9d4d7a8773ceec4267ab50",
      "placeholder": "​",
      "style": "IPY_MODEL_9697079af77a4223b0fa6d5f3175deed",
      "value": " 440M/440M [00:09&lt;00:00, 44.2MB/s]"
     }
    },
    "c1d7f4a4c6cd4bf4a203039afe12004c": {
     "model_module": "@jupyter-widgets/controls",
     "model_name": "HBoxModel",
     "state": {
      "_dom_classes": [],
      "_model_module": "@jupyter-widgets/controls",
      "_model_module_version": "1.5.0",
      "_model_name": "HBoxModel",
      "_view_count": null,
      "_view_module": "@jupyter-widgets/controls",
      "_view_module_version": "1.5.0",
      "_view_name": "HBoxView",
      "box_style": "",
      "children": [
       "IPY_MODEL_147c0a6781d84bea8c1cb1c54781a2bb",
       "IPY_MODEL_748a799962e243f5afd7aed877b02b7e"
      ],
      "layout": "IPY_MODEL_fa003a770ec74074bbb720cbf773df81"
     }
    },
    "cdecac780fcc47fdac2539a152be9097": {
     "model_module": "@jupyter-widgets/base",
     "model_name": "LayoutModel",
     "state": {
      "_model_module": "@jupyter-widgets/base",
      "_model_module_version": "1.2.0",
      "_model_name": "LayoutModel",
      "_view_count": null,
      "_view_module": "@jupyter-widgets/base",
      "_view_module_version": "1.2.0",
      "_view_name": "LayoutView",
      "align_content": null,
      "align_items": null,
      "align_self": null,
      "border": null,
      "bottom": null,
      "display": null,
      "flex": null,
      "flex_flow": null,
      "grid_area": null,
      "grid_auto_columns": null,
      "grid_auto_flow": null,
      "grid_auto_rows": null,
      "grid_column": null,
      "grid_gap": null,
      "grid_row": null,
      "grid_template_areas": null,
      "grid_template_columns": null,
      "grid_template_rows": null,
      "height": null,
      "justify_content": null,
      "justify_items": null,
      "left": null,
      "margin": null,
      "max_height": null,
      "max_width": null,
      "min_height": null,
      "min_width": null,
      "object_fit": null,
      "object_position": null,
      "order": null,
      "overflow": null,
      "overflow_x": null,
      "overflow_y": null,
      "padding": null,
      "right": null,
      "top": null,
      "visibility": null,
      "width": null
     }
    },
    "d1f89d973f8246caa5c84264a937e461": {
     "model_module": "@jupyter-widgets/controls",
     "model_name": "ProgressStyleModel",
     "state": {
      "_model_module": "@jupyter-widgets/controls",
      "_model_module_version": "1.5.0",
      "_model_name": "ProgressStyleModel",
      "_view_count": null,
      "_view_module": "@jupyter-widgets/base",
      "_view_module_version": "1.2.0",
      "_view_name": "StyleView",
      "bar_color": null,
      "description_width": "initial"
     }
    },
    "d2238019acfe47259d6f751a93e9b3e8": {
     "model_module": "@jupyter-widgets/controls",
     "model_name": "HTMLModel",
     "state": {
      "_dom_classes": [],
      "_model_module": "@jupyter-widgets/controls",
      "_model_module_version": "1.5.0",
      "_model_name": "HTMLModel",
      "_view_count": null,
      "_view_module": "@jupyter-widgets/controls",
      "_view_module_version": "1.5.0",
      "_view_name": "HTMLView",
      "description": "",
      "description_tooltip": null,
      "layout": "IPY_MODEL_57c1b421e53f42d49573acd11bf0290e",
      "placeholder": "​",
      "style": "IPY_MODEL_73a6ff7c06074c4dbc4b071b1b22f94e",
      "value": " 28.0/28.0 [00:00&lt;00:00, 32.0B/s]"
     }
    },
    "d84b6aae4c26476c971af93233d84c17": {
     "model_module": "@jupyter-widgets/controls",
     "model_name": "HBoxModel",
     "state": {
      "_dom_classes": [],
      "_model_module": "@jupyter-widgets/controls",
      "_model_module_version": "1.5.0",
      "_model_name": "HBoxModel",
      "_view_count": null,
      "_view_module": "@jupyter-widgets/controls",
      "_view_module_version": "1.5.0",
      "_view_name": "HBoxView",
      "box_style": "",
      "children": [
       "IPY_MODEL_797b4d8284ae41eb8e5679520801fb17",
       "IPY_MODEL_acdd5a0c5a314526a637866aef944f8c"
      ],
      "layout": "IPY_MODEL_92b40536375b4b15bb327349b043af35"
     }
    },
    "eb3a339bc5424305b1ba6a8b5a739302": {
     "model_module": "@jupyter-widgets/controls",
     "model_name": "ProgressStyleModel",
     "state": {
      "_model_module": "@jupyter-widgets/controls",
      "_model_module_version": "1.5.0",
      "_model_name": "ProgressStyleModel",
      "_view_count": null,
      "_view_module": "@jupyter-widgets/base",
      "_view_module_version": "1.2.0",
      "_view_name": "StyleView",
      "bar_color": null,
      "description_width": "initial"
     }
    },
    "f38c651e2cb84e0090ebf25b635ddc32": {
     "model_module": "@jupyter-widgets/base",
     "model_name": "LayoutModel",
     "state": {
      "_model_module": "@jupyter-widgets/base",
      "_model_module_version": "1.2.0",
      "_model_name": "LayoutModel",
      "_view_count": null,
      "_view_module": "@jupyter-widgets/base",
      "_view_module_version": "1.2.0",
      "_view_name": "LayoutView",
      "align_content": null,
      "align_items": null,
      "align_self": null,
      "border": null,
      "bottom": null,
      "display": null,
      "flex": null,
      "flex_flow": null,
      "grid_area": null,
      "grid_auto_columns": null,
      "grid_auto_flow": null,
      "grid_auto_rows": null,
      "grid_column": null,
      "grid_gap": null,
      "grid_row": null,
      "grid_template_areas": null,
      "grid_template_columns": null,
      "grid_template_rows": null,
      "height": null,
      "justify_content": null,
      "justify_items": null,
      "left": null,
      "margin": null,
      "max_height": null,
      "max_width": null,
      "min_height": null,
      "min_width": null,
      "object_fit": null,
      "object_position": null,
      "order": null,
      "overflow": null,
      "overflow_x": null,
      "overflow_y": null,
      "padding": null,
      "right": null,
      "top": null,
      "visibility": null,
      "width": null
     }
    },
    "f4cab8d72ffb496d982c5d17f9524b23": {
     "model_module": "@jupyter-widgets/controls",
     "model_name": "ProgressStyleModel",
     "state": {
      "_model_module": "@jupyter-widgets/controls",
      "_model_module_version": "1.5.0",
      "_model_name": "ProgressStyleModel",
      "_view_count": null,
      "_view_module": "@jupyter-widgets/base",
      "_view_module_version": "1.2.0",
      "_view_name": "StyleView",
      "bar_color": null,
      "description_width": "initial"
     }
    },
    "fa003a770ec74074bbb720cbf773df81": {
     "model_module": "@jupyter-widgets/base",
     "model_name": "LayoutModel",
     "state": {
      "_model_module": "@jupyter-widgets/base",
      "_model_module_version": "1.2.0",
      "_model_name": "LayoutModel",
      "_view_count": null,
      "_view_module": "@jupyter-widgets/base",
      "_view_module_version": "1.2.0",
      "_view_name": "LayoutView",
      "align_content": null,
      "align_items": null,
      "align_self": null,
      "border": null,
      "bottom": null,
      "display": null,
      "flex": null,
      "flex_flow": null,
      "grid_area": null,
      "grid_auto_columns": null,
      "grid_auto_flow": null,
      "grid_auto_rows": null,
      "grid_column": null,
      "grid_gap": null,
      "grid_row": null,
      "grid_template_areas": null,
      "grid_template_columns": null,
      "grid_template_rows": null,
      "height": null,
      "justify_content": null,
      "justify_items": null,
      "left": null,
      "margin": null,
      "max_height": null,
      "max_width": null,
      "min_height": null,
      "min_width": null,
      "object_fit": null,
      "object_position": null,
      "order": null,
      "overflow": null,
      "overflow_x": null,
      "overflow_y": null,
      "padding": null,
      "right": null,
      "top": null,
      "visibility": null,
      "width": null
     }
    }
   }
  }
 },
 "nbformat": 4,
 "nbformat_minor": 1
}
